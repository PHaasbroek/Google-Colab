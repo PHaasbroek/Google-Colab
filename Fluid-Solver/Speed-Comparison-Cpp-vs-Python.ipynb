{
  "nbformat": 4,
  "nbformat_minor": 0,
  "metadata": {
    "colab": {
      "provenance": [],
      "authorship_tag": "ABX9TyOdQhFvtr3bySEZn8dsiJxI",
      "include_colab_link": true
    },
    "kernelspec": {
      "name": "python3",
      "display_name": "Python 3"
    },
    "language_info": {
      "name": "python"
    }
  },
  "cells": [
    {
      "cell_type": "markdown",
      "metadata": {
        "id": "view-in-github",
        "colab_type": "text"
      },
      "source": [
        "<a href=\"https://colab.research.google.com/github/PHaasbroek/Google-Colab/blob/main/Fluid-Solver/Speed-Comparison-Cpp-vs-Python.ipynb\" target=\"_parent\"><img src=\"https://colab.research.google.com/assets/colab-badge.svg\" alt=\"Open In Colab\"/></a>"
      ]
    },
    {
      "cell_type": "markdown",
      "source": [
        "Comparing Python speed to C++ speed in Colab"
      ],
      "metadata": {
        "id": "MuXh_mzEKtSi"
      }
    },
    {
      "cell_type": "code",
      "source": [
        "# Python speed test\n",
        "\n",
        "import time\n",
        "\n",
        "start = time.time()\n",
        "\n",
        "for i in range(100000):\n",
        "  print(i)\n",
        "\n",
        "end = time.time()\n",
        "print(end - start)\n",
        "\n",
        "# output given in about 14 seconds"
      ],
      "metadata": {
        "id": "SpHhTou6KinM"
      },
      "execution_count": null,
      "outputs": []
    },
    {
      "cell_type": "code",
      "source": [
        "# Cpp speed test\n",
        "\n",
        "%%writefile speedTest.cpp\n",
        "#include <iostream>\n",
        "#include <ctime>\n",
        "\n",
        "int main(void){\n",
        "\n",
        "  const clock_t begin_time = clock();\n",
        "\n",
        "  for(int i = 0; i < 100000; i++){\n",
        "    std::cout << i << std::endl;\n",
        "  }\n",
        "\n",
        "  std::cout << float( clock () - begin_time ) /  CLOCKS_PER_SEC;\n",
        "}\n"
      ],
      "metadata": {
        "id": "pYomn7VqMMdC",
        "outputId": "0fea02f5-d17d-477a-fd4f-edd6de7e0466",
        "colab": {
          "base_uri": "https://localhost:8080/"
        }
      },
      "execution_count": null,
      "outputs": [
        {
          "output_type": "stream",
          "name": "stdout",
          "text": [
            "Overwriting speedTest.cpp\n"
          ]
        }
      ]
    },
    {
      "cell_type": "code",
      "source": [
        "%%script bash\n",
        "g++ speedTest.cpp -o speedTest\n",
        "./speedTest\n",
        "\n",
        "# output in about 0.09 seconds\n",
        "# this yields that C++ is about 150 times faster and therefore the speed of C++ is more than compensates for the compilation time of C++."
      ],
      "metadata": {
        "id": "B1YOYIOkM7U6"
      },
      "execution_count": null,
      "outputs": []
    }
  ]
}