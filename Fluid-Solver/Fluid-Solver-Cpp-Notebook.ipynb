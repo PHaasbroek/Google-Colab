{
  "nbformat": 4,
  "nbformat_minor": 0,
  "metadata": {
    "colab": {
      "provenance": [],
      "authorship_tag": "ABX9TyNSw4nNGDb4PqCrVG2Juwxv",
      "include_colab_link": true
    },
    "kernelspec": {
      "name": "python3",
      "display_name": "Python 3"
    },
    "language_info": {
      "name": "python"
    }
  },
  "cells": [
    {
      "cell_type": "markdown",
      "metadata": {
        "id": "view-in-github",
        "colab_type": "text"
      },
      "source": [
        "<a href=\"https://colab.research.google.com/github/PHaasbroek/Google-Colab/blob/main/Fluid-Solver/Fluid-Solver-Cpp-Notebook.ipynb\" target=\"_parent\"><img src=\"https://colab.research.google.com/assets/colab-badge.svg\" alt=\"Open In Colab\"/></a>"
      ]
    },
    {
      "cell_type": "code",
      "execution_count": null,
      "metadata": {
        "id": "Rpb4rq3OhhHl"
      },
      "outputs": [],
      "source": []
    },
    {
      "cell_type": "markdown",
      "source": [
        "#Fluid-Solver-Cpp Notebook\n",
        "\n",
        "##Introduction\n",
        "This notebook is written to keep the code and the notes on two seperate documents.\n",
        "\n",
        "###Comparing C++ to Python on Google Colab\n",
        "The first step in the process of converting the my existing Python code to C++ code is to confirm whether it would make a meaningful difference in computation speed.\n",
        "\n"
      ],
      "metadata": {
        "id": "h_0sojbYhj8M"
      }
    }
  ]
}