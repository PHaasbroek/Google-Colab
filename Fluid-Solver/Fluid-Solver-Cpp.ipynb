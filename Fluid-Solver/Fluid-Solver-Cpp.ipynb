{
  "nbformat": 4,
  "nbformat_minor": 0,
  "metadata": {
    "colab": {
      "provenance": [],
      "authorship_tag": "ABX9TyO4dz1MWDtwNnRwh+me+yrK",
      "include_colab_link": true
    },
    "kernelspec": {
      "name": "python3",
      "display_name": "Python 3"
    },
    "language_info": {
      "name": "python"
    }
  },
  "cells": [
    {
      "cell_type": "markdown",
      "metadata": {
        "id": "view-in-github",
        "colab_type": "text"
      },
      "source": [
        "<a href=\"https://colab.research.google.com/github/PHaasbroek/Google-Colab/blob/main/Fluid-Solver/Fluid-Solver-Cpp.ipynb\" target=\"_parent\"><img src=\"https://colab.research.google.com/assets/colab-badge.svg\" alt=\"Open In Colab\"/></a>"
      ]
    },
    {
      "cell_type": "markdown",
      "source": [
        "Comparing Python speed to C++ speed in Colab"
      ],
      "metadata": {
        "id": "MuXh_mzEKtSi"
      }
    },
    {
      "cell_type": "code",
      "source": [
        "# Python speed\n",
        "\n",
        "import time\n",
        "\n",
        "start = time.time()\n",
        "\n",
        "for i in range(100000):\n",
        "  print(i)\n",
        "\n",
        "end = time.time()\n",
        "print(end - start)\n",
        "\n",
        "# output given in about 14 seconds"
      ],
      "metadata": {
        "id": "SpHhTou6KinM"
      },
      "execution_count": null,
      "outputs": []
    },
    {
      "cell_type": "code",
      "source": [
        "%%writefile speedTest.cpp\n",
        "#include <iostream>\n",
        "#include <ctime>\n",
        "\n",
        "int main(void){\n",
        "\n",
        "  const clock_t begin_time = clock();\n",
        "\n",
        "  for(int i = 0; i < 100000; i++){\n",
        "    std::cout << i << std::endl;\n",
        "  }\n",
        "\n",
        "  std::cout << float( clock () - begin_time ) /  CLOCKS_PER_SEC;\n",
        "}\n"
      ],
      "metadata": {
        "id": "pYomn7VqMMdC",
        "outputId": "0fea02f5-d17d-477a-fd4f-edd6de7e0466",
        "colab": {
          "base_uri": "https://localhost:8080/"
        }
      },
      "execution_count": null,
      "outputs": [
        {
          "output_type": "stream",
          "name": "stdout",
          "text": [
            "Overwriting speedTest.cpp\n"
          ]
        }
      ]
    },
    {
      "cell_type": "code",
      "source": [
        "%%script bash\n",
        "g++ speedTest.cpp -o speedTest\n",
        "./speedTest\n",
        "\n",
        "# output in about 0.09 seconds\n",
        "# this yields that C++ is about 150 times faster and therefore the speed of C++ is more than compensates for the compilation time of C++."
      ],
      "metadata": {
        "id": "B1YOYIOkM7U6"
      },
      "execution_count": null,
      "outputs": []
    },
    {
      "cell_type": "code",
      "source": [
        "%%writefile functions.h\n",
        "#include <iostream>\n",
        "#include <cmath>\n",
        "\n",
        "void printFunction();\n",
        "\n",
        "void printFunction(){\n",
        "  std::cout << \"Function Works\" << std::endl;\n",
        "}"
      ],
      "metadata": {
        "id": "qo5CtizQHzbY",
        "outputId": "2184bb11-e94f-428f-fb1f-5df4e8662e0c",
        "colab": {
          "base_uri": "https://localhost:8080/"
        }
      },
      "execution_count": null,
      "outputs": [
        {
          "output_type": "stream",
          "name": "stdout",
          "text": [
            "Writing functions.h\n"
          ]
        }
      ]
    },
    {
      "cell_type": "code",
      "execution_count": null,
      "metadata": {
        "id": "DhtqIu4of_YG",
        "outputId": "6c12f0fe-bf1e-4dc6-cf88-c8e43adee986",
        "colab": {
          "base_uri": "https://localhost:8080/"
        }
      },
      "outputs": [
        {
          "output_type": "stream",
          "name": "stdout",
          "text": [
            "Overwriting FluidSolverCpp.cpp\n"
          ]
        }
      ],
      "source": [
        "#Testing the Fluid-Solver-Cpp\n",
        "\n",
        "%%writefile FluidSolverCpp.cpp\n",
        "#include \"functions.h\"\n",
        "\n",
        "int main() {\n",
        "\n",
        "  std::cout << \"Hello World\" << std::endl;\n",
        "  printFunction();\n",
        "  return 0;\n",
        "  }\n"
      ]
    },
    {
      "cell_type": "code",
      "source": [
        "%%script bash\n",
        "g++ FluidSolverCpp.cpp -o FluidSolverCpp\n",
        "./FluidSolverCpp"
      ],
      "metadata": {
        "id": "rhAYjZ3M_jT4",
        "outputId": "fcfcecd8-330f-493e-a657-3cd42ebec9dc",
        "colab": {
          "base_uri": "https://localhost:8080/"
        }
      },
      "execution_count": null,
      "outputs": [
        {
          "output_type": "stream",
          "name": "stdout",
          "text": [
            "Hello World\n",
            "Function Works\n"
          ]
        }
      ]
    }
  ]
}