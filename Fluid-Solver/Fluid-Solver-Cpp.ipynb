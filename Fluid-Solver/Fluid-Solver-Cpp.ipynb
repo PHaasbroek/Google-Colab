{
  "nbformat": 4,
  "nbformat_minor": 0,
  "metadata": {
    "colab": {
      "provenance": [],
      "authorship_tag": "ABX9TyM8Nqc4KPwUrKhnnu4AstKb",
      "include_colab_link": true
    },
    "kernelspec": {
      "name": "python3",
      "display_name": "Python 3"
    },
    "language_info": {
      "name": "python"
    }
  },
  "cells": [
    {
      "cell_type": "markdown",
      "metadata": {
        "id": "view-in-github",
        "colab_type": "text"
      },
      "source": [
        "<a href=\"https://colab.research.google.com/github/PHaasbroek/Google-Colab/blob/main/Fluid-Solver/Fluid-Solver-Cpp.ipynb\" target=\"_parent\"><img src=\"https://colab.research.google.com/assets/colab-badge.svg\" alt=\"Open In Colab\"/></a>"
      ]
    },
    {
      "cell_type": "code",
      "source": [
        "# Header files need to be written at every compile to implement changes made to the header.\n",
        "\n",
        "%%writefile functions.h\n",
        "\n",
        "void printFunction();\n",
        "double Re(double density, double dynamicViscosity, double charLength, double charSpeed);\n",
        "double skinFriction_Schultz_Grunov(double Re);\n",
        "double wallShearStress_f(double skinFriction, double density, double meanVelocity);\n",
        "double frictionVelocity_f(double wallShearStress, double density);\n",
        "double dimensionlessFirstCellHeight_f(double density, double frictionVelocity, double firstCellHeight, double dynamicViscosity);\n",
        "\n",
        "\n",
        "void printFunction(){\n",
        "  std::cout << \"Function Works 3\" << std::endl;\n",
        "}\n",
        "\n",
        "double Re_f(double density, double dynamicViscosity, double charLength, double charSpeed){\n",
        "  // density [kg/m^3]\n",
        "  // dynamicViscosity [Pa * s] = [kg/m/s]\n",
        "  // charLength [m]\n",
        "  // charSpeed [m.s]\n",
        "\n",
        "  return density * charSpeed * charLength / dynamicViscosity;\n",
        "}\n",
        "\n",
        "\n",
        "double skinFriction_Schultz_Grunov_f(double Re){\n",
        "  // https://www.cfd-online.com/Wiki/Skin_friction_coefficient#References\n",
        "  // Schultz-Grunov (equation 21.19a in Schlichting, Hermann (1979), Boundary Layer Theory, ISBN 0-07-055334-3, 7th Edition.)\n",
        "  // skin friction on a flat plate for turbulent flow.\n",
        "  // skinFriction [-]\n",
        "\n",
        "  return 0.370 * pow(log10(Re),-2.584);\n",
        "}\n",
        "\n",
        "double wallShearStress_f(double skinFriction, double density, double meanVelocity){\n",
        "  // wallShearStress [N/m^2]\n",
        "  return 0.5 * skinFriction * density * meanVelocity * meanVelocity;\n",
        "}\n",
        "\n",
        "double frictionVelocity_f(double wallShearStress, double density){\n",
        "  // wallShearStress [N/m^2]\n",
        "  // density [kg/m^3]\n",
        "\n",
        "  return pow(wallShearStress / density, 0.5);\n",
        "}\n",
        "\n",
        "double dimensionlessFirstCellHeight_f(double density, double frictionVelocity, double firstCellHeight, double dynamicViscosity){\n",
        "  // density [kg/m^3]\n",
        "  // frictionVelocity [m/s]\n",
        "  // firstCellHeight [m]\n",
        "  // dynamicViscosity [Pa * s] = [kg/m/s]\n",
        "\n",
        "  return density * frictionVelocity * firstCellHeight / dynamicViscosity;\n",
        "}\n",
        "\n",
        "double sumOfGeometricSeries_f(double firstEntry = 1.0, double ratio = 1.0, int numExpandingCells = 1){\n",
        "  // assume that consecutive cells have a ratio > 1.0\n",
        "  // assume that the cells at the walls are the smallest\n",
        "\n",
        "  if(ratio == 1.0){\n",
        "    ratio = ratio + 1e-9;\n",
        "  }\n",
        "\n",
        "  return firstEntry * (1.0 - pow(ratio, numExpandingCells)) / (1.0 - ratio);\n",
        "}\n",
        "\n",
        "\n",
        "\n"
      ],
      "metadata": {
        "id": "qo5CtizQHzbY",
        "outputId": "c61341ed-ed65-4024-cb89-d1ba1fa8e020",
        "colab": {
          "base_uri": "https://localhost:8080/"
        }
      },
      "execution_count": 102,
      "outputs": [
        {
          "output_type": "stream",
          "name": "stdout",
          "text": [
            "Overwriting functions.h\n"
          ]
        }
      ]
    },
    {
      "cell_type": "code",
      "execution_count": 105,
      "metadata": {
        "id": "DhtqIu4of_YG",
        "outputId": "3fb480e9-a385-4a1a-fad2-c375311e33da",
        "colab": {
          "base_uri": "https://localhost:8080/"
        }
      },
      "outputs": [
        {
          "output_type": "stream",
          "name": "stdout",
          "text": [
            "Overwriting FluidSolverCpp.cpp\n"
          ]
        }
      ],
      "source": [
        "#Testing the Fluid-Solver-Cpp\n",
        "\n",
        "%%writefile FluidSolverCpp.cpp\n",
        "\n",
        "// Standard Libraries: ////////////////////////\n",
        "#include <iostream>\n",
        "#include <cmath>\n",
        "\n",
        "// Custom headers files: /////////////////////////////\n",
        "#include \"functions.h\"\n",
        "\n",
        "\n",
        "\n",
        "int main(void) {\n",
        "\n",
        "  // Input Parameters: ///////////////////////\n",
        "  int cellNumberHeight = 100; // number of cells through the height of the domain\n",
        "  double cellWidth = 1.0; // unit width of cells\n",
        "  double firstCellHeight = 8e-5; // [m]\n",
        "  double diameter = 0.050; // [m]\n",
        "  double meanVelocity = 2.0; // [m/s]\n",
        "  double density = 1000.0; // [kg/m^3]\n",
        "  double dynamicViscosity = 0.01; // [Pa * s]\n",
        "\n",
        "  double Re = Re_f(density, dynamicViscosity, diameter, meanVelocity);\n",
        "  double skinFriction = skinFriction_Schultz_Grunov_f(Re);\n",
        "  double wallShearStress = wallShearStress_f(skinFriction, density, meanVelocity);\n",
        "  double frictionVelocity = frictionVelocity_f(wallShearStress, density);\n",
        "  double dimensionlessFirstCellHeight = dimensionlessFirstCellHeight_f(density, frictionVelocity, firstCellHeight, dynamicViscosity);\n",
        "\n",
        "\n",
        "  std::cout << \"Reynolds number:\" << Re << \" [-]\\n\";\n",
        "  std::cout << \"Skin friction: \" << skinFriction << \" [-]\\n\";\n",
        "  std::cout << \"Wall shear stress: \" << wallShearStress << \" [Pa]\\n\";\n",
        "  std::cout << \"Friction velocity: \" << frictionVelocity << \" [m/s]\\n\";\n",
        "  std::cout << \"Dimensionless first cell height: \" << dimensionlessFirstCellHeight << \" [-]\\n\";\n",
        "  std::cout << std::endl;\n",
        "\n",
        "\n",
        "\n",
        "\n",
        "  return 0;\n",
        "  }\n"
      ]
    },
    {
      "cell_type": "code",
      "source": [
        "%%script bash\n",
        "g++ FluidSolverCpp.cpp -o FluidSolverCpp\n",
        "./FluidSolverCpp"
      ],
      "metadata": {
        "id": "rhAYjZ3M_jT4",
        "outputId": "5777d70d-5c78-417d-c17a-db8887044209",
        "colab": {
          "base_uri": "https://localhost:8080/"
        }
      },
      "execution_count": 106,
      "outputs": [
        {
          "output_type": "stream",
          "name": "stdout",
          "text": [
            "Reynolds number:10000 [-]\n",
            "Skin friction: 0.0102915 [-]\n",
            "Wall shear stress: 20.583 [Pa]\n",
            "Friction velocity: 0.143468 [m/s]\n",
            "Dimensionless first cell height: 1.14774 [-]\n",
            "\n",
            "7"
          ]
        }
      ]
    }
  ]
}