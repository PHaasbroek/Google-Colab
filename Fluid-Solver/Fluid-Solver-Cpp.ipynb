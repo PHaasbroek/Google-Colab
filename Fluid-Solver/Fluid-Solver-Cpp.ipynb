{
  "nbformat": 4,
  "nbformat_minor": 0,
  "metadata": {
    "colab": {
      "provenance": [],
      "authorship_tag": "ABX9TyOtUP/si8O4enoaoUsdV8zn",
      "include_colab_link": true
    },
    "kernelspec": {
      "name": "python3",
      "display_name": "Python 3"
    },
    "language_info": {
      "name": "python"
    }
  },
  "cells": [
    {
      "cell_type": "markdown",
      "metadata": {
        "id": "view-in-github",
        "colab_type": "text"
      },
      "source": [
        "<a href=\"https://colab.research.google.com/github/PHaasbroek/Google-Colab/blob/main/Fluid-Solver/Fluid-Solver-Cpp.ipynb\" target=\"_parent\"><img src=\"https://colab.research.google.com/assets/colab-badge.svg\" alt=\"Open In Colab\"/></a>"
      ]
    },
    {
      "cell_type": "code",
      "source": [
        "# Header files need to be written at every compile to implement changes made to the header.\n",
        "\n",
        "%%writefile functions.h\n",
        "\n",
        "void printFunction();\n",
        "double Re(double density, double dynamicViscosity, double charLength, double charSpeed);\n",
        "double skinFriction_Schultz_Grunov(double Re);\n",
        "double wallShearStress_f(double skinFriction, double density, double meanVelocity);\n",
        "\n",
        "\n",
        "void printFunction(){\n",
        "  std::cout << \"Function Works 3\" << std::endl;\n",
        "}\n",
        "\n",
        "double Re_f(double density, double dynamicViscosity, double charLength, double charSpeed){\n",
        "  // density [kg/m^3]\n",
        "  // dynamicViscosity [Pa * s] = [kg/m/s]\n",
        "  // charLength [m]\n",
        "  // charSpeed [m.s]\n",
        "\n",
        "  return density * charSpeed * charLength / dynamicViscosity;\n",
        "}\n",
        "\n",
        "\n",
        "double skinFriction_Schultz_Grunov_f(double Re){\n",
        "  // https://www.cfd-online.com/Wiki/Skin_friction_coefficient#References\n",
        "  // Schultz-Grunov (equation 21.19a in Schlichting, Hermann (1979), Boundary Layer Theory, ISBN 0-07-055334-3, 7th Edition.)\n",
        "  // skin friction on a flat plate for turbulent flow.\n",
        "  // skinFriction [-]\n",
        "\n",
        "  return 0.370 * pow(log10(Re),-2.584);\n",
        "}\n",
        "\n",
        "double wallShearStress_f(double skinFriction, double density, double meanVelocity){\n",
        "  // wallShearStress [N/m^2]\n",
        "  return 0.5 * skinFriction * density * meanVelocity * meanVelocity;\n",
        "}\n",
        "\n",
        "\n"
      ],
      "metadata": {
        "id": "qo5CtizQHzbY",
        "outputId": "823ecb1d-15a9-4dca-e9ac-06311bd05456",
        "colab": {
          "base_uri": "https://localhost:8080/"
        }
      },
      "execution_count": 67,
      "outputs": [
        {
          "output_type": "stream",
          "name": "stdout",
          "text": [
            "Overwriting functions.h\n"
          ]
        }
      ]
    },
    {
      "cell_type": "code",
      "execution_count": 70,
      "metadata": {
        "id": "DhtqIu4of_YG",
        "outputId": "7cd4c225-1f07-4e17-d4a2-259e64c3830f",
        "colab": {
          "base_uri": "https://localhost:8080/"
        }
      },
      "outputs": [
        {
          "output_type": "stream",
          "name": "stdout",
          "text": [
            "Overwriting FluidSolverCpp.cpp\n"
          ]
        }
      ],
      "source": [
        "#Testing the Fluid-Solver-Cpp\n",
        "\n",
        "%%writefile FluidSolverCpp.cpp\n",
        "\n",
        "// Standard Libraries: ////////////////////////\n",
        "#include <iostream>\n",
        "#include <cmath>\n",
        "\n",
        "// Custom headers files: /////////////////////////////\n",
        "#include \"functions.h\"\n",
        "\n",
        "\n",
        "\n",
        "int main(void) {\n",
        "\n",
        "  // Input Parameters: ///////////////////////\n",
        "  int cellNumberHeight = 100; // number of cells through the height of the domain\n",
        "  double cellWidth = 1.0; // unit width of cells\n",
        "  double firstCellHeight = 8e-5; // [m]\n",
        "  double diameter = 0.050; // [m]\n",
        "  double meanVelocity = 2.0; // [m/s]\n",
        "  double density = 1000.0; // [kg/m^3]\n",
        "  double dynamicViscosity = 0.01; // [Pa * s]\n",
        "\n",
        "  double Re = Re_f(density, dynamicViscosity, diameter, meanVelocity);\n",
        "  double skinFriction = skinFriction_Schultz_Grunov_f(Re);\n",
        "  double wallShearStress = wallShearStress_f(skinFriction, density, meanVelocity);\n",
        "\n",
        "  std::cout << Re << \"\\n\";\n",
        "  std::cout << skinFriction << \"\\n\";\n",
        "\n",
        "  //double wallShearStress = 0.5 * skinFriction * density * meanVelocity**2\n",
        "  //double frictionVelocity = math.sqrt(wallShearStress / density)\n",
        "  //double dimensionlessFirstCellHeight = density * frictionVelocity * firstCellHeight / dynamicViscosity #\n",
        "\n",
        "/*\n",
        "print(\"Reynolds number: \" + str(Re) + \" [-]\")\n",
        "print(\"Skin friction: \" + str(skinFriction) + \" [-]\")\n",
        "print(\"Wall shear stress: \" + str(wallShearStress) + \" [Pa]\")\n",
        "print(\"Friction velocity: \" + str(frictionVelocity) + \" [m/s]\")\n",
        "print(\"Dimensionless first cell height: \" + str(dimensionlessFirstCellHeight) + \" [-]\")\n",
        "*/\n",
        "\n",
        "\n",
        "  std::cout << \"Hello World\" << std::endl;\n",
        "  return 0;\n",
        "  }\n"
      ]
    },
    {
      "cell_type": "code",
      "source": [
        "%%script bash\n",
        "g++ FluidSolverCpp.cpp -o FluidSolverCpp\n",
        "./FluidSolverCpp"
      ],
      "metadata": {
        "id": "rhAYjZ3M_jT4",
        "outputId": "da0235d0-46cc-46d0-a8fe-ae0e89066661",
        "colab": {
          "base_uri": "https://localhost:8080/"
        }
      },
      "execution_count": 71,
      "outputs": [
        {
          "output_type": "stream",
          "name": "stdout",
          "text": [
            "10000\n",
            "0.0102915\n",
            "Hello World\n"
          ]
        }
      ]
    }
  ]
}