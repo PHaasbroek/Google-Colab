{
  "nbformat": 4,
  "nbformat_minor": 0,
  "metadata": {
    "colab": {
      "provenance": [],
      "authorship_tag": "ABX9TyNeJk3lSZxmWiwUxW6dkYLL",
      "include_colab_link": true
    },
    "kernelspec": {
      "name": "python3",
      "display_name": "Python 3"
    },
    "language_info": {
      "name": "python"
    }
  },
  "cells": [
    {
      "cell_type": "markdown",
      "metadata": {
        "id": "view-in-github",
        "colab_type": "text"
      },
      "source": [
        "<a href=\"https://colab.research.google.com/github/PHaasbroek/Google-Colab/blob/main/Ideal_Gas_Nozzle_Calculations.ipynb\" target=\"_parent\"><img src=\"https://colab.research.google.com/assets/colab-badge.svg\" alt=\"Open In Colab\"/></a>"
      ]
    },
    {
      "cell_type": "markdown",
      "source": [
        "The aim on this notebook is to code the geometry of a converging diverging nozzle for an ideal gas, given some operating conditions. The formulae and values are based on Cengel & Cimbala, Fluid Mechanics -- Fundamentals and Applications."
      ],
      "metadata": {
        "id": "4wfVlOEXm-kM"
      }
    },
    {
      "cell_type": "code",
      "source": [],
      "metadata": {
        "id": "VY02A8_xsHpx"
      },
      "execution_count": null,
      "outputs": []
    },
    {
      "cell_type": "code",
      "execution_count": null,
      "metadata": {
        "id": "21alvXRrmiAT"
      },
      "outputs": [],
      "source": [
        "p_inlet = 2000e3 #[Pa] static pressure at the inlet of the nozzle\n",
        "p_outlet = 100e3 #[Pa] static pressure at the outlet of the nozzle\n",
        "T_inlet = 1000 #[K] temperature at the inlet of the nozzle\n",
        "# T_outlet\n",
        "R_ideal = 188.9 #[Pa * m^3 / kg / K]\n",
        "k = 1.33 # isentropic gas constant for hot products of combustion.\n",
        "#testing new changes"
      ]
    },
    {
      "cell_type": "code",
      "source": [],
      "metadata": {
        "id": "dIx0WJ30m-Iu"
      },
      "execution_count": null,
      "outputs": []
    }
  ]
}