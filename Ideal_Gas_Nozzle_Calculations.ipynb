{
  "nbformat": 4,
  "nbformat_minor": 0,
  "metadata": {
    "colab": {
      "provenance": [],
      "authorship_tag": "ABX9TyO7GpwE3Xf4uygOaIh2N1vI",
      "include_colab_link": true
    },
    "kernelspec": {
      "name": "python3",
      "display_name": "Python 3"
    },
    "language_info": {
      "name": "python"
    }
  },
  "cells": [
    {
      "cell_type": "markdown",
      "metadata": {
        "id": "view-in-github",
        "colab_type": "text"
      },
      "source": [
        "<a href=\"https://colab.research.google.com/github/PHaasbroek/Google-Colab/blob/main/Ideal_Gas_Nozzle_Calculations.ipynb\" target=\"_parent\"><img src=\"https://colab.research.google.com/assets/colab-badge.svg\" alt=\"Open In Colab\"/></a>"
      ]
    },
    {
      "cell_type": "markdown",
      "source": [
        "The aim on this notebook is to code the geometry of a converging diverging nozzle for an ideal gas, given some operating conditions. The formulae and values are based on Cengel & Cimbala, Fluid Mechanics -- Fundamentals and Applications."
      ],
      "metadata": {
        "id": "4wfVlOEXm-kM"
      }
    },
    {
      "cell_type": "code",
      "source": [
        "# prompt: generate a pull request to pull from github\n",
        "\n",
        "!git pull https://github.com/PHaasbroek/Google-Colab/blob/main/functions.ipynb\n"
      ],
      "metadata": {
        "id": "VY02A8_xsHpx",
        "outputId": "7b1ac66e-64f6-4192-8802-a8d045b5360b",
        "colab": {
          "base_uri": "https://localhost:8080/"
        }
      },
      "execution_count": 55,
      "outputs": [
        {
          "output_type": "stream",
          "name": "stdout",
          "text": [
            "fatal: repository 'https://github.com/PHaasbroek/Google-Colab/blob/main/functions.ipynb/' not found\n"
          ]
        }
      ]
    },
    {
      "cell_type": "code",
      "source": [
        "# prompt: i got a fatal error: repository not found\n",
        "\n",
        "!git clone https://github.com/PHaasbroek/Google-Colab.git\n",
        "%cd Google-Colab\n",
        "!git pull\n"
      ],
      "metadata": {
        "id": "eO0i0cz-bLuA",
        "outputId": "cfb9e22b-4f3a-45e4-d72b-ceb65544df58",
        "colab": {
          "base_uri": "https://localhost:8080/"
        }
      },
      "execution_count": 56,
      "outputs": [
        {
          "output_type": "stream",
          "name": "stdout",
          "text": [
            "fatal: destination path 'Google-Colab' already exists and is not an empty directory.\n",
            "/content/Google-Colab\n",
            "remote: Enumerating objects: 5, done.\u001b[K\n",
            "remote: Counting objects: 100% (5/5), done.\u001b[K\n",
            "remote: Compressing objects: 100% (3/3), done.\u001b[K\n",
            "remote: Total 3 (delta 2), reused 0 (delta 0), pack-reused 0\u001b[K\n",
            "Unpacking objects: 100% (3/3), 369 bytes | 369.00 KiB/s, done.\n",
            "From https://github.com/PHaasbroek/Google-Colab\n",
            "   daaf03e..85d5fd7  main       -> origin/main\n",
            "Updating daaf03e..85d5fd7\n",
            "Fast-forward\n",
            " Ideal_Gas_Nozzle_Calculations.ipynb | 10 \u001b[32m+++++\u001b[m\u001b[31m-----\u001b[m\n",
            " 1 file changed, 5 insertions(+), 5 deletions(-)\n"
          ]
        }
      ]
    },
    {
      "cell_type": "code",
      "source": [
        "# prompt: fatal: destination path 'Google-Colab' already exists and is not an empty directory.\n",
        "\n",
        "!rm -rf Google-Colab\n",
        "!git clone https://github.com/PHaasbroek/Google-Colab.git\n",
        "%cd Google-Colab\n",
        "!git pull\n",
        "%ls"
      ],
      "metadata": {
        "id": "GY1yeJwibXO6",
        "outputId": "d290d128-938a-49e7-cd6b-0cafa0e9cb04",
        "colab": {
          "base_uri": "https://localhost:8080/"
        }
      },
      "execution_count": 70,
      "outputs": [
        {
          "output_type": "stream",
          "name": "stdout",
          "text": [
            "Cloning into 'Google-Colab'...\n",
            "remote: Enumerating objects: 37, done.\u001b[K\n",
            "remote: Counting objects:   2% (1/37)\u001b[K\rremote: Counting objects:   5% (2/37)\u001b[K\rremote: Counting objects:   8% (3/37)\u001b[K\rremote: Counting objects:  10% (4/37)\u001b[K\rremote: Counting objects:  13% (5/37)\u001b[K\rremote: Counting objects:  16% (6/37)\u001b[K\rremote: Counting objects:  18% (7/37)\u001b[K\rremote: Counting objects:  21% (8/37)\u001b[K\rremote: Counting objects:  24% (9/37)\u001b[K\rremote: Counting objects:  27% (10/37)\u001b[K\rremote: Counting objects:  29% (11/37)\u001b[K\rremote: Counting objects:  32% (12/37)\u001b[K\rremote: Counting objects:  35% (13/37)\u001b[K\rremote: Counting objects:  37% (14/37)\u001b[K\rremote: Counting objects:  40% (15/37)\u001b[K\rremote: Counting objects:  43% (16/37)\u001b[K\rremote: Counting objects:  45% (17/37)\u001b[K\rremote: Counting objects:  48% (18/37)\u001b[K\rremote: Counting objects:  51% (19/37)\u001b[K\rremote: Counting objects:  54% (20/37)\u001b[K\rremote: Counting objects:  56% (21/37)\u001b[K\rremote: Counting objects:  59% (22/37)\u001b[K\rremote: Counting objects:  62% (23/37)\u001b[K\rremote: Counting objects:  64% (24/37)\u001b[K\rremote: Counting objects:  67% (25/37)\u001b[K\rremote: Counting objects:  70% (26/37)\u001b[K\rremote: Counting objects:  72% (27/37)\u001b[K\rremote: Counting objects:  75% (28/37)\u001b[K\rremote: Counting objects:  78% (29/37)\u001b[K\rremote: Counting objects:  81% (30/37)\u001b[K\rremote: Counting objects:  83% (31/37)\u001b[K\rremote: Counting objects:  86% (32/37)\u001b[K\rremote: Counting objects:  89% (33/37)\u001b[K\rremote: Counting objects:  91% (34/37)\u001b[K\rremote: Counting objects:  94% (35/37)\u001b[K\rremote: Counting objects:  97% (36/37)\u001b[K\rremote: Counting objects: 100% (37/37)\u001b[K\rremote: Counting objects: 100% (37/37), done.\u001b[K\n",
            "remote: Compressing objects:   3% (1/33)\u001b[K\rremote: Compressing objects:   6% (2/33)\u001b[K\rremote: Compressing objects:   9% (3/33)\u001b[K\rremote: Compressing objects:  12% (4/33)\u001b[K\rremote: Compressing objects:  15% (5/33)\u001b[K\rremote: Compressing objects:  18% (6/33)\u001b[K\rremote: Compressing objects:  21% (7/33)\u001b[K\rremote: Compressing objects:  24% (8/33)\u001b[K\rremote: Compressing objects:  27% (9/33)\u001b[K\rremote: Compressing objects:  30% (10/33)\u001b[K\rremote: Compressing objects:  33% (11/33)\u001b[K\rremote: Compressing objects:  36% (12/33)\u001b[K\rremote: Compressing objects:  39% (13/33)\u001b[K\rremote: Compressing objects:  42% (14/33)\u001b[K\rremote: Compressing objects:  45% (15/33)\u001b[K\rremote: Compressing objects:  48% (16/33)\u001b[K\rremote: Compressing objects:  51% (17/33)\u001b[K\rremote: Compressing objects:  54% (18/33)\u001b[K\rremote: Compressing objects:  57% (19/33)\u001b[K\rremote: Compressing objects:  60% (20/33)\u001b[K\rremote: Compressing objects:  63% (21/33)\u001b[K\rremote: Compressing objects:  66% (22/33)\u001b[K\rremote: Compressing objects:  69% (23/33)\u001b[K\rremote: Compressing objects:  72% (24/33)\u001b[K\rremote: Compressing objects:  75% (25/33)\u001b[K\rremote: Compressing objects:  78% (26/33)\u001b[K\rremote: Compressing objects:  81% (27/33)\u001b[K\rremote: Compressing objects:  84% (28/33)\u001b[K\rremote: Compressing objects:  87% (29/33)\u001b[K\rremote: Compressing objects:  90% (30/33)\u001b[K\rremote: Compressing objects:  93% (31/33)\u001b[K\rremote: Compressing objects:  96% (32/33)\u001b[K\rremote: Compressing objects: 100% (33/33)\u001b[K\rremote: Compressing objects: 100% (33/33), done.\u001b[K\n",
            "remote: Total 37 (delta 14), reused 0 (delta 0), pack-reused 0\u001b[K\n",
            "Receiving objects:   2% (1/37)\rReceiving objects:   5% (2/37)\rReceiving objects:   8% (3/37)\rReceiving objects:  10% (4/37)\rReceiving objects:  13% (5/37)\rReceiving objects:  16% (6/37)\rReceiving objects:  18% (7/37)\rReceiving objects:  21% (8/37)\rReceiving objects:  24% (9/37)\rReceiving objects:  27% (10/37)\rReceiving objects:  29% (11/37)\rReceiving objects:  32% (12/37)\rReceiving objects:  35% (13/37)\rReceiving objects:  37% (14/37)\rReceiving objects:  40% (15/37)\rReceiving objects:  43% (16/37)\rReceiving objects:  45% (17/37)\rReceiving objects:  48% (18/37)\rReceiving objects:  51% (19/37)\rReceiving objects:  54% (20/37)\rReceiving objects:  56% (21/37)\rReceiving objects:  59% (22/37)\rReceiving objects:  62% (23/37)\rReceiving objects:  64% (24/37)\rReceiving objects:  67% (25/37)\rReceiving objects:  70% (26/37)\rReceiving objects:  72% (27/37)\rReceiving objects:  75% (28/37)\rReceiving objects:  78% (29/37)\rReceiving objects:  81% (30/37)\rReceiving objects:  83% (31/37)\rReceiving objects:  86% (32/37)\rReceiving objects:  89% (33/37)\rReceiving objects:  91% (34/37)\rReceiving objects:  94% (35/37)\rReceiving objects:  97% (36/37)\rReceiving objects: 100% (37/37)\rReceiving objects: 100% (37/37), 9.13 KiB | 9.13 MiB/s, done.\n",
            "Resolving deltas:   0% (0/14)\rResolving deltas:   7% (1/14)\rResolving deltas:  14% (2/14)\rResolving deltas:  21% (3/14)\rResolving deltas:  28% (4/14)\rResolving deltas:  35% (5/14)\rResolving deltas:  42% (6/14)\rResolving deltas:  50% (7/14)\rResolving deltas:  57% (8/14)\rResolving deltas:  64% (9/14)\rResolving deltas:  71% (10/14)\rResolving deltas:  78% (11/14)\rResolving deltas:  85% (12/14)\rResolving deltas:  92% (13/14)\rResolving deltas: 100% (14/14)\rResolving deltas: 100% (14/14), done.\n",
            "/content/Google-Colab/Google-Colab/Google-Colab/Google-Colab/Google-Colab/Google-Colab/Google-Colab\n",
            "Already up to date.\n",
            "functions.ipynb  functions.py  Ideal_Gas_Nozzle_Calculations.ipynb  README.md\n"
          ]
        }
      ]
    },
    {
      "cell_type": "code",
      "execution_count": 74,
      "metadata": {
        "id": "21alvXRrmiAT",
        "outputId": "5bb4b821-e87e-463b-c521-2a004d289a61",
        "colab": {
          "base_uri": "https://localhost:8080/"
        }
      },
      "outputs": [
        {
          "output_type": "stream",
          "name": "stdout",
          "text": [
            "69\n"
          ]
        }
      ],
      "source": [
        "import equations as eq\n",
        "\n",
        "p_inlet = 2000e3 #[Pa] static pressure at the inlet of the nozzle\n",
        "p_outlet = 100e3 #[Pa] static pressure at the outlet of the nozzle\n",
        "v_inlet = 0 #[m/s] velocity at the inlet\n",
        "\n",
        "T_inlet = 273+25 #[K] temperature at the inlet of the nozzle\n",
        "\n",
        "# T_outlet\n",
        "R_ideal = 188.9 #[Pa * m^3 / kg / K]\n",
        "k = 1.4 # isentropic gas constant for hot products of combustion.\n",
        "#testing new changes\n",
        "Ma_throat = 1 # [-] mach number at the throat (always)\n",
        "rho_inlet = 1.2 # [kg/m^3] density`\n",
        "\n",
        "\n",
        "T_air = 273+20 # [K] temperature of air\n",
        "k_air = -1.4 # [-] specific heat ratio\n",
        "R_air = 287 # [kJ/kg/K]\n",
        "#c_sound_air = (T_air * k_air * R_air)**(0.5)\n",
        "#print(c_sound_air)\n",
        "# fn.c_sound_f(T_air, k_air, R_air)\n",
        "print(fn.functionsTest)\n",
        "\n",
        "\n",
        "\n",
        "\n"
      ]
    },
    {
      "cell_type": "code",
      "source": [
        "# prompt: how do i pull from my github repository so that i can access a module with functions\n",
        "\n",
        "!git clone https://github.com/your_username/your_repository.git\n",
        "%cd your_repository\n",
        "import your_module\n"
      ],
      "metadata": {
        "id": "iX-5WWleeZ0N"
      },
      "execution_count": null,
      "outputs": []
    },
    {
      "cell_type": "code",
      "source": [],
      "metadata": {
        "id": "dIx0WJ30m-Iu"
      },
      "execution_count": null,
      "outputs": []
    }
  ]
}