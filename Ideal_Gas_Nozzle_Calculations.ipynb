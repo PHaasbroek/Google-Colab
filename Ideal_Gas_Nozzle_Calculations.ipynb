{
  "nbformat": 4,
  "nbformat_minor": 0,
  "metadata": {
    "colab": {
      "provenance": [],
      "authorship_tag": "ABX9TyO1mpBe/fmKGNJ02IbWd9oO",
      "include_colab_link": true
    },
    "kernelspec": {
      "name": "python3",
      "display_name": "Python 3"
    },
    "language_info": {
      "name": "python"
    }
  },
  "cells": [
    {
      "cell_type": "markdown",
      "metadata": {
        "id": "view-in-github",
        "colab_type": "text"
      },
      "source": [
        "<a href=\"https://colab.research.google.com/github/PHaasbroek/Google-Colab/blob/main/Ideal_Gas_Nozzle_Calculations.ipynb\" target=\"_parent\"><img src=\"https://colab.research.google.com/assets/colab-badge.svg\" alt=\"Open In Colab\"/></a>"
      ]
    },
    {
      "cell_type": "markdown",
      "source": [
        "The aim on this notebook is to code the geometry of a converging diverging nozzle for an ideal gas, given some operating conditions. The formulae and values are based on Cengel & Cimbala, Fluid Mechanics -- Fundamentals and Applications.\n",
        "\n",
        "For calculations, stagnation enthalpy, $h_0$, is assumed to be constant."
      ],
      "metadata": {
        "id": "4wfVlOEXm-kM"
      }
    },
    {
      "cell_type": "code",
      "source": [
        "!rm -rf Google-Colab\n",
        "!git clone https://github.com/PHaasbroek/Google-Colab.git\n",
        "%cd Google-Colab\n",
        "!git pull\n",
        "%ls"
      ],
      "metadata": {
        "colab": {
          "base_uri": "https://localhost:8080/"
        },
        "id": "GY1yeJwibXO6",
        "outputId": "e9ec6604-a06e-4fb8-f461-7a62952518aa"
      },
      "execution_count": 78,
      "outputs": [
        {
          "output_type": "stream",
          "name": "stdout",
          "text": [
            "Cloning into 'Google-Colab'...\n",
            "remote: Enumerating objects: 54, done.\u001b[K\n",
            "remote: Counting objects:   1% (1/54)\u001b[K\rremote: Counting objects:   3% (2/54)\u001b[K\rremote: Counting objects:   5% (3/54)\u001b[K\rremote: Counting objects:   7% (4/54)\u001b[K\rremote: Counting objects:   9% (5/54)\u001b[K\rremote: Counting objects:  11% (6/54)\u001b[K\rremote: Counting objects:  12% (7/54)\u001b[K\rremote: Counting objects:  14% (8/54)\u001b[K\rremote: Counting objects:  16% (9/54)\u001b[K\rremote: Counting objects:  18% (10/54)\u001b[K\rremote: Counting objects:  20% (11/54)\u001b[K\rremote: Counting objects:  22% (12/54)\u001b[K\rremote: Counting objects:  24% (13/54)\u001b[K\rremote: Counting objects:  25% (14/54)\u001b[K\rremote: Counting objects:  27% (15/54)\u001b[K\rremote: Counting objects:  29% (16/54)\u001b[K\rremote: Counting objects:  31% (17/54)\u001b[K\rremote: Counting objects:  33% (18/54)\u001b[K\rremote: Counting objects:  35% (19/54)\u001b[K\rremote: Counting objects:  37% (20/54)\u001b[K\rremote: Counting objects:  38% (21/54)\u001b[K\rremote: Counting objects:  40% (22/54)\u001b[K\rremote: Counting objects:  42% (23/54)\u001b[K\rremote: Counting objects:  44% (24/54)\u001b[K\rremote: Counting objects:  46% (25/54)\u001b[K\rremote: Counting objects:  48% (26/54)\u001b[K\rremote: Counting objects:  50% (27/54)\u001b[K\rremote: Counting objects:  51% (28/54)\u001b[K\rremote: Counting objects:  53% (29/54)\u001b[K\rremote: Counting objects:  55% (30/54)\u001b[K\rremote: Counting objects:  57% (31/54)\u001b[K\rremote: Counting objects:  59% (32/54)\u001b[K\rremote: Counting objects:  61% (33/54)\u001b[K\rremote: Counting objects:  62% (34/54)\u001b[K\rremote: Counting objects:  64% (35/54)\u001b[K\rremote: Counting objects:  66% (36/54)\u001b[K\rremote: Counting objects:  68% (37/54)\u001b[K\rremote: Counting objects:  70% (38/54)\u001b[K\rremote: Counting objects:  72% (39/54)\u001b[K\rremote: Counting objects:  74% (40/54)\u001b[K\rremote: Counting objects:  75% (41/54)\u001b[K\rremote: Counting objects:  77% (42/54)\u001b[K\rremote: Counting objects:  79% (43/54)\u001b[K\rremote: Counting objects:  81% (44/54)\u001b[K\rremote: Counting objects:  83% (45/54)\u001b[K\rremote: Counting objects:  85% (46/54)\u001b[K\rremote: Counting objects:  87% (47/54)\u001b[K\rremote: Counting objects:  88% (48/54)\u001b[K\rremote: Counting objects:  90% (49/54)\u001b[K\rremote: Counting objects:  92% (50/54)\u001b[K\rremote: Counting objects:  94% (51/54)\u001b[K\rremote: Counting objects:  96% (52/54)\u001b[K\rremote: Counting objects:  98% (53/54)\u001b[K\rremote: Counting objects: 100% (54/54)\u001b[K\rremote: Counting objects: 100% (54/54), done.\u001b[K\n",
            "remote: Compressing objects:   2% (1/50)\u001b[K\rremote: Compressing objects:   4% (2/50)\u001b[K\rremote: Compressing objects:   6% (3/50)\u001b[K\rremote: Compressing objects:   8% (4/50)\u001b[K\rremote: Compressing objects:  10% (5/50)\u001b[K\rremote: Compressing objects:  12% (6/50)\u001b[K\rremote: Compressing objects:  14% (7/50)\u001b[K\rremote: Compressing objects:  16% (8/50)\u001b[K\rremote: Compressing objects:  18% (9/50)\u001b[K\rremote: Compressing objects:  20% (10/50)\u001b[K\rremote: Compressing objects:  22% (11/50)\u001b[K\rremote: Compressing objects:  24% (12/50)\u001b[K\rremote: Compressing objects:  26% (13/50)\u001b[K\rremote: Compressing objects:  28% (14/50)\u001b[K\rremote: Compressing objects:  30% (15/50)\u001b[K\rremote: Compressing objects:  32% (16/50)\u001b[K\rremote: Compressing objects:  34% (17/50)\u001b[K\rremote: Compressing objects:  36% (18/50)\u001b[K\rremote: Compressing objects:  38% (19/50)\u001b[K\rremote: Compressing objects:  40% (20/50)\u001b[K\rremote: Compressing objects:  42% (21/50)\u001b[K\rremote: Compressing objects:  44% (22/50)\u001b[K\rremote: Compressing objects:  46% (23/50)\u001b[K\rremote: Compressing objects:  48% (24/50)\u001b[K\rremote: Compressing objects:  50% (25/50)\u001b[K\rremote: Compressing objects:  52% (26/50)\u001b[K\rremote: Compressing objects:  54% (27/50)\u001b[K\rremote: Compressing objects:  56% (28/50)\u001b[K\rremote: Compressing objects:  58% (29/50)\u001b[K\rremote: Compressing objects:  60% (30/50)\u001b[K\rremote: Compressing objects:  62% (31/50)\u001b[K\rremote: Compressing objects:  64% (32/50)\u001b[K\rremote: Compressing objects:  66% (33/50)\u001b[K\rremote: Compressing objects:  68% (34/50)\u001b[K\rremote: Compressing objects:  70% (35/50)\u001b[K\rremote: Compressing objects:  72% (36/50)\u001b[K\rremote: Compressing objects:  74% (37/50)\u001b[K\rremote: Compressing objects:  76% (38/50)\u001b[K\rremote: Compressing objects:  78% (39/50)\u001b[K\rremote: Compressing objects:  80% (40/50)\u001b[K\rremote: Compressing objects:  82% (41/50)\u001b[K\rremote: Compressing objects:  84% (42/50)\u001b[K\rremote: Compressing objects:  86% (43/50)\u001b[K\rremote: Compressing objects:  88% (44/50)\u001b[K\rremote: Compressing objects:  90% (45/50)\u001b[K\rremote: Compressing objects:  92% (46/50)\u001b[K\rremote: Compressing objects:  94% (47/50)\u001b[K\rremote: Compressing objects:  96% (48/50)\u001b[K\rremote: Compressing objects:  98% (49/50)\u001b[K\rremote: Compressing objects: 100% (50/50)\u001b[K\rremote: Compressing objects: 100% (50/50), done.\u001b[K\n",
            "remote: Total 54 (delta 23), reused 0 (delta 0), pack-reused 0\u001b[K\n",
            "Receiving objects:   1% (1/54)\rReceiving objects:   3% (2/54)\rReceiving objects:   5% (3/54)\rReceiving objects:   7% (4/54)\rReceiving objects:   9% (5/54)\rReceiving objects:  11% (6/54)\rReceiving objects:  12% (7/54)\rReceiving objects:  14% (8/54)\rReceiving objects:  16% (9/54)\rReceiving objects:  18% (10/54)\rReceiving objects:  20% (11/54)\rReceiving objects:  22% (12/54)\rReceiving objects:  24% (13/54)\rReceiving objects:  25% (14/54)\rReceiving objects:  27% (15/54)\rReceiving objects:  29% (16/54)\rReceiving objects:  31% (17/54)\rReceiving objects:  33% (18/54)\rReceiving objects:  35% (19/54)\rReceiving objects:  37% (20/54)\rReceiving objects:  38% (21/54)\rReceiving objects:  40% (22/54)\rReceiving objects:  42% (23/54)\rReceiving objects:  44% (24/54)\rReceiving objects:  46% (25/54)\rReceiving objects:  48% (26/54)\rReceiving objects:  50% (27/54)\rReceiving objects:  51% (28/54)\rReceiving objects:  53% (29/54)\rReceiving objects:  55% (30/54)\rReceiving objects:  57% (31/54)\rReceiving objects:  59% (32/54)\rReceiving objects:  61% (33/54)\rReceiving objects:  62% (34/54)\rReceiving objects:  64% (35/54)\rReceiving objects:  66% (36/54)\rReceiving objects:  68% (37/54)\rReceiving objects:  70% (38/54)\rReceiving objects:  72% (39/54)\rReceiving objects:  74% (40/54)\rReceiving objects:  75% (41/54)\rReceiving objects:  77% (42/54)\rReceiving objects:  79% (43/54)\rReceiving objects:  81% (44/54)\rReceiving objects:  83% (45/54)\rReceiving objects:  85% (46/54)\rReceiving objects:  87% (47/54)\rReceiving objects:  88% (48/54)\rReceiving objects:  90% (49/54)\rReceiving objects:  92% (50/54)\rReceiving objects:  94% (51/54)\rReceiving objects:  96% (52/54)\rReceiving objects:  98% (53/54)\rReceiving objects: 100% (54/54)\rReceiving objects: 100% (54/54), 16.52 KiB | 16.52 MiB/s, done.\n",
            "Resolving deltas:   0% (0/23)\rResolving deltas:   4% (1/23)\rResolving deltas:   8% (2/23)\rResolving deltas:  13% (3/23)\rResolving deltas:  17% (4/23)\rResolving deltas:  21% (5/23)\rResolving deltas:  26% (6/23)\rResolving deltas:  30% (7/23)\rResolving deltas:  34% (8/23)\rResolving deltas:  39% (9/23)\rResolving deltas:  43% (10/23)\rResolving deltas:  47% (11/23)\rResolving deltas:  52% (12/23)\rResolving deltas:  56% (13/23)\rResolving deltas:  60% (14/23)\rResolving deltas:  65% (15/23)\rResolving deltas:  69% (16/23)\rResolving deltas:  73% (17/23)\rResolving deltas:  78% (18/23)\rResolving deltas:  82% (19/23)\rResolving deltas:  86% (20/23)\rResolving deltas:  91% (21/23)\rResolving deltas:  95% (22/23)\rResolving deltas: 100% (23/23)\rResolving deltas: 100% (23/23), done.\n",
            "/content/Google-Colab/Google-Colab/Google-Colab/Google-Colab/Google-Colab/Google-Colab/Google-Colab/Google-Colab/Google-Colab\n",
            "Already up to date.\n",
            "equations.py  functions.ipynb  Ideal_Gas_Nozzle_Calculations.ipynb  README.md\n"
          ]
        }
      ]
    },
    {
      "cell_type": "code",
      "execution_count": 87,
      "metadata": {
        "id": "21alvXRrmiAT",
        "outputId": "761da967-2a6b-4d8f-83f0-3626412ba5f5",
        "colab": {
          "base_uri": "https://localhost:8080/"
        }
      },
      "outputs": [
        {
          "output_type": "stream",
          "name": "stdout",
          "text": [
            "Inlet Temperature: 298.15 K\n",
            "Inlet stagnation enthalp: 299640.75 J/kg\n"
          ]
        }
      ],
      "source": [
        "import equations as eq\n",
        "\n",
        "p_inlet = 2000.0e3 #[Pa] static pressure at the inlet of the nozzle\n",
        "p_outlet = 100.0e3 #[Pa] static pressure at the outlet of the nozzle\n",
        "v_inlet = 0.0 #[m/s] velocity at the inlet\n",
        "\n",
        "degC = 273.15 # [K] 0 degrees Celcius is degC Kelvin\n",
        "\n",
        "cp_inlet = 1005 # [J/kg/K] heat capacity of air\n",
        "T_inlet = 25+degC #[K] temperature at the inlet of the nozzle\n",
        "print(\"Inlet Temperature: \" + str(T_inlet) + \" K\")\n",
        "\n",
        "h_0_inlet = cp_inlet * T_inlet + v_inlet**2/2\n",
        "print(\"Inlet stagnation enthalp: \" + str(h_0_inlet) + \" J/kg\" )\n",
        "\n",
        "\n",
        "k = 1.4 # isentropic gas constant for hot products of combustion.\n",
        "#testing new changes\n",
        "Ma_throat = 1.0 # [-] mach number at the throat (always)\n",
        "rho_inlet = 1.2 # [kg/m^3] density`\n",
        "\n",
        "T_air = 20+degC # [K] temperature of air\n",
        "k_air = 1.4 # [-] specific heat ratio\n",
        "R_air = 287.0 # [kJ/kg/K]\n",
        "\n",
        "eq.c_sound(T_air, k_air, R_air)\n",
        "\n",
        "D_inlet = 1.0 # [m] diameter at the inlet\n",
        "\n",
        "\n",
        "\n"
      ]
    }
  ]
}