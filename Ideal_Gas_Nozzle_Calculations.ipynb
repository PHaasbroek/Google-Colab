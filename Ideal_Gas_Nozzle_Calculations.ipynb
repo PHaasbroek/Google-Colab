{
  "nbformat": 4,
  "nbformat_minor": 0,
  "metadata": {
    "colab": {
      "provenance": [],
      "authorship_tag": "ABX9TyN+hAqmEChoVR5igDwDfBnV",
      "include_colab_link": true
    },
    "kernelspec": {
      "name": "python3",
      "display_name": "Python 3"
    },
    "language_info": {
      "name": "python"
    }
  },
  "cells": [
    {
      "cell_type": "markdown",
      "metadata": {
        "id": "view-in-github",
        "colab_type": "text"
      },
      "source": [
        "<a href=\"https://colab.research.google.com/github/PHaasbroek/Google-Colab/blob/main/Ideal_Gas_Nozzle_Calculations.ipynb\" target=\"_parent\"><img src=\"https://colab.research.google.com/assets/colab-badge.svg\" alt=\"Open In Colab\"/></a>"
      ]
    },
    {
      "cell_type": "markdown",
      "source": [
        "The aim on this notebook is to code the geometry of a converging diverging nozzle for an ideal gas, given some operating conditions. The formulae and values are based on Cengel & Cimbala, Fluid Mechanics -- Fundamentals and Applications."
      ],
      "metadata": {
        "id": "4wfVlOEXm-kM"
      }
    },
    {
      "cell_type": "code",
      "source": [],
      "metadata": {
        "id": "VY02A8_xsHpx"
      },
      "execution_count": 14,
      "outputs": []
    },
    {
      "cell_type": "code",
      "execution_count": 15,
      "metadata": {
        "id": "21alvXRrmiAT",
        "outputId": "bc18df05-5537-4333-ea22-3af5a605e062",
        "colab": {
          "base_uri": "https://localhost:8080/"
        }
      },
      "outputs": [
        {
          "output_type": "stream",
          "name": "stdout",
          "text": [
            "Cloning into 'Ideal_Gas_Nozzle_Calculations.ipynb'...\n",
            "fatal: repository 'https://github.com/PHaasbroek/Google-Colab/blob/main/Ideal_Gas_Nozzle_Calculations.ipynb/' not found\n",
            "\u001b[0m\u001b[01;34mModules\u001b[0m/  \u001b[01;34msample_data\u001b[0m/\n",
            "Speed of sound must be a positive value!\n"
          ]
        }
      ],
      "source": [
        "\n",
        "\n",
        "p_inlet = 2000e3 #[Pa] static pressure at the inlet of the nozzle\n",
        "p_outlet = 100e3 #[Pa] static pressure at the outlet of the nozzle\n",
        "v_inlet = 0 #[m/s] velocity at the inlet\n",
        "\n",
        "T_inlet = 273+25 #[K] temperature at the inlet of the nozzle\n",
        "\n",
        "# T_outlet\n",
        "R_ideal = 188.9 #[Pa * m^3 / kg / K]\n",
        "k = 1.4 # isentropic gas constant for hot products of combustion.\n",
        "#testing new changes\n",
        "Ma_throat = 1 # [-] mach number at the throat (always)\n",
        "rho_inlet = 1.2 # [kg/m^3] density`\n",
        "\n",
        "\n",
        "T_air = 273+20 # [K] temperature of air\n",
        "k_air = -1.4 # [-] specific heat ratio\n",
        "R_air = 287 # [kJ/kg/K]\n",
        "#c_sound_air = (T_air * k_air * R_air)**(0.5)\n",
        "#print(c_sound_air)\n",
        "c_sound_f(T_air, k_air, R_air)\n",
        "\n",
        "\n",
        "\n",
        "\n",
        "def c_sound_f(T, k, R):\n",
        "  c_square = T * k * R\n",
        "\n",
        "  if c_square < 0:\n",
        "    print(\"Speed of sound must be a positive value!\")\n",
        "    return 0\n",
        "\n",
        "  return (c_square)**(0.5)"
      ]
    },
    {
      "cell_type": "code",
      "source": [],
      "metadata": {
        "id": "dIx0WJ30m-Iu"
      },
      "execution_count": 15,
      "outputs": []
    }
  ]
}