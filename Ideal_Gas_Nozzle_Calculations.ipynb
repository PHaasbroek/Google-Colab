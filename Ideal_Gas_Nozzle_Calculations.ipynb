{
  "nbformat": 4,
  "nbformat_minor": 0,
  "metadata": {
    "colab": {
      "provenance": [],
      "authorship_tag": "ABX9TyPAt2o00Hal2piYzlHO90vj",
      "include_colab_link": true
    },
    "kernelspec": {
      "name": "python3",
      "display_name": "Python 3"
    },
    "language_info": {
      "name": "python"
    }
  },
  "cells": [
    {
      "cell_type": "markdown",
      "metadata": {
        "id": "view-in-github",
        "colab_type": "text"
      },
      "source": [
        "<a href=\"https://colab.research.google.com/github/PHaasbroek/Google-Colab/blob/main/Ideal_Gas_Nozzle_Calculations.ipynb\" target=\"_parent\"><img src=\"https://colab.research.google.com/assets/colab-badge.svg\" alt=\"Open In Colab\"/></a>"
      ]
    },
    {
      "cell_type": "markdown",
      "source": [
        "The aim on this notebook is to code the geometry of a converging diverging nozzle for an ideal gas, given some operating conditions. The formulae and values are based on Cengel & Cimbala, Fluid Mechanics -- Fundamentals and Applications.\n",
        "\n",
        "For calculations, stagnation enthalpy, $h_0$, is assumed to be constant."
      ],
      "metadata": {
        "id": "4wfVlOEXm-kM"
      }
    },
    {
      "cell_type": "code",
      "source": [
        "!rm -rf Google-Colab\n",
        "!git clone https://github.com/PHaasbroek/Google-Colab.git\n",
        "%cd Google-Colab\n",
        "!git pull\n",
        "%ls"
      ],
      "metadata": {
        "colab": {
          "base_uri": "https://localhost:8080/"
        },
        "id": "GY1yeJwibXO6",
        "outputId": "bfa8f2e2-0ee8-46f5-d6b9-6abaffc2b4c3"
      },
      "execution_count": 5,
      "outputs": [
        {
          "output_type": "stream",
          "name": "stdout",
          "text": [
            "Cloning into 'Google-Colab'...\n",
            "remote: Enumerating objects: 74, done.\u001b[K\n",
            "remote: Counting objects:   1% (1/74)\u001b[K\rremote: Counting objects:   2% (2/74)\u001b[K\rremote: Counting objects:   4% (3/74)\u001b[K\rremote: Counting objects:   5% (4/74)\u001b[K\rremote: Counting objects:   6% (5/74)\u001b[K\rremote: Counting objects:   8% (6/74)\u001b[K\rremote: Counting objects:   9% (7/74)\u001b[K\rremote: Counting objects:  10% (8/74)\u001b[K\rremote: Counting objects:  12% (9/74)\u001b[K\rremote: Counting objects:  13% (10/74)\u001b[K\rremote: Counting objects:  14% (11/74)\u001b[K\rremote: Counting objects:  16% (12/74)\u001b[K\rremote: Counting objects:  17% (13/74)\u001b[K\rremote: Counting objects:  18% (14/74)\u001b[K\rremote: Counting objects:  20% (15/74)\u001b[K\rremote: Counting objects:  21% (16/74)\u001b[K\rremote: Counting objects:  22% (17/74)\u001b[K\rremote: Counting objects:  24% (18/74)\u001b[K\rremote: Counting objects:  25% (19/74)\u001b[K\rremote: Counting objects:  27% (20/74)\u001b[K\rremote: Counting objects:  28% (21/74)\u001b[K\rremote: Counting objects:  29% (22/74)\u001b[K\rremote: Counting objects:  31% (23/74)\u001b[K\rremote: Counting objects:  32% (24/74)\u001b[K\rremote: Counting objects:  33% (25/74)\u001b[K\rremote: Counting objects:  35% (26/74)\u001b[K\rremote: Counting objects:  36% (27/74)\u001b[K\rremote: Counting objects:  37% (28/74)\u001b[K\rremote: Counting objects:  39% (29/74)\u001b[K\rremote: Counting objects:  40% (30/74)\u001b[K\rremote: Counting objects:  41% (31/74)\u001b[K\rremote: Counting objects:  43% (32/74)\u001b[K\rremote: Counting objects:  44% (33/74)\u001b[K\rremote: Counting objects:  45% (34/74)\u001b[K\rremote: Counting objects:  47% (35/74)\u001b[K\rremote: Counting objects:  48% (36/74)\u001b[K\rremote: Counting objects:  50% (37/74)\u001b[K\rremote: Counting objects:  51% (38/74)\u001b[K\rremote: Counting objects:  52% (39/74)\u001b[K\rremote: Counting objects:  54% (40/74)\u001b[K\rremote: Counting objects:  55% (41/74)\u001b[K\rremote: Counting objects:  56% (42/74)\u001b[K\rremote: Counting objects:  58% (43/74)\u001b[K\rremote: Counting objects:  59% (44/74)\u001b[K\rremote: Counting objects:  60% (45/74)\u001b[K\rremote: Counting objects:  62% (46/74)\u001b[K\rremote: Counting objects:  63% (47/74)\u001b[K\rremote: Counting objects:  64% (48/74)\u001b[K\rremote: Counting objects:  66% (49/74)\u001b[K\rremote: Counting objects:  67% (50/74)\u001b[K\rremote: Counting objects:  68% (51/74)\u001b[K\rremote: Counting objects:  70% (52/74)\u001b[K\rremote: Counting objects:  71% (53/74)\u001b[K\rremote: Counting objects:  72% (54/74)\u001b[K\rremote: Counting objects:  74% (55/74)\u001b[K\rremote: Counting objects:  75% (56/74)\u001b[K\rremote: Counting objects:  77% (57/74)\u001b[K\rremote: Counting objects:  78% (58/74)\u001b[K\rremote: Counting objects:  79% (59/74)\u001b[K\rremote: Counting objects:  81% (60/74)\u001b[K\rremote: Counting objects:  82% (61/74)\u001b[K\rremote: Counting objects:  83% (62/74)\u001b[K\rremote: Counting objects:  85% (63/74)\u001b[K\rremote: Counting objects:  86% (64/74)\u001b[K\rremote: Counting objects:  87% (65/74)\u001b[K\rremote: Counting objects:  89% (66/74)\u001b[K\rremote: Counting objects:  90% (67/74)\u001b[K\rremote: Counting objects:  91% (68/74)\u001b[K\rremote: Counting objects:  93% (69/74)\u001b[K\rremote: Counting objects:  94% (70/74)\u001b[K\rremote: Counting objects:  95% (71/74)\u001b[K\rremote: Counting objects:  97% (72/74)\u001b[K\rremote: Counting objects:  98% (73/74)\u001b[K\rremote: Counting objects: 100% (74/74)\u001b[K\rremote: Counting objects: 100% (74/74), done.\u001b[K\n",
            "remote: Compressing objects:   1% (1/70)\u001b[K\rremote: Compressing objects:   2% (2/70)\u001b[K\rremote: Compressing objects:   4% (3/70)\u001b[K\rremote: Compressing objects:   5% (4/70)\u001b[K\rremote: Compressing objects:   7% (5/70)\u001b[K\rremote: Compressing objects:   8% (6/70)\u001b[K\rremote: Compressing objects:  10% (7/70)\u001b[K\rremote: Compressing objects:  11% (8/70)\u001b[K\rremote: Compressing objects:  12% (9/70)\u001b[K\rremote: Compressing objects:  14% (10/70)\u001b[K\rremote: Compressing objects:  15% (11/70)\u001b[K\rremote: Compressing objects:  17% (12/70)\u001b[K\rremote: Compressing objects:  18% (13/70)\u001b[K\rremote: Compressing objects:  20% (14/70)\u001b[K\rremote: Compressing objects:  21% (15/70)\u001b[K\rremote: Compressing objects:  22% (16/70)\u001b[K\rremote: Compressing objects:  24% (17/70)\u001b[K\rremote: Compressing objects:  25% (18/70)\u001b[K\rremote: Compressing objects:  27% (19/70)\u001b[K\rremote: Compressing objects:  28% (20/70)\u001b[K\rremote: Compressing objects:  30% (21/70)\u001b[K\rremote: Compressing objects:  31% (22/70)\u001b[K\rremote: Compressing objects:  32% (23/70)\u001b[K\rremote: Compressing objects:  34% (24/70)\u001b[K\rremote: Compressing objects:  35% (25/70)\u001b[K\rremote: Compressing objects:  37% (26/70)\u001b[K\rremote: Compressing objects:  38% (27/70)\u001b[K\rremote: Compressing objects:  40% (28/70)\u001b[K\rremote: Compressing objects:  41% (29/70)\u001b[K\rremote: Compressing objects:  42% (30/70)\u001b[K\rremote: Compressing objects:  44% (31/70)\u001b[K\rremote: Compressing objects:  45% (32/70)\u001b[K\rremote: Compressing objects:  47% (33/70)\u001b[K\rremote: Compressing objects:  48% (34/70)\u001b[K\rremote: Compressing objects:  50% (35/70)\u001b[K\rremote: Compressing objects:  51% (36/70)\u001b[K\rremote: Compressing objects:  52% (37/70)\u001b[K\rremote: Compressing objects:  54% (38/70)\u001b[K\rremote: Compressing objects:  55% (39/70)\u001b[K\rremote: Compressing objects:  57% (40/70)\u001b[K\rremote: Compressing objects:  58% (41/70)\u001b[K\rremote: Compressing objects:  60% (42/70)\u001b[K\rremote: Compressing objects:  61% (43/70)\u001b[K\rremote: Compressing objects:  62% (44/70)\u001b[K\rremote: Compressing objects:  64% (45/70)\u001b[K\rremote: Compressing objects:  65% (46/70)\u001b[K\rremote: Compressing objects:  67% (47/70)\u001b[K\rremote: Compressing objects:  68% (48/70)\u001b[K\rremote: Compressing objects:  70% (49/70)\u001b[K\rremote: Compressing objects:  71% (50/70)\u001b[K\rremote: Compressing objects:  72% (51/70)\u001b[K\rremote: Compressing objects:  74% (52/70)\u001b[K\rremote: Compressing objects:  75% (53/70)\u001b[K\rremote: Compressing objects:  77% (54/70)\u001b[K\rremote: Compressing objects:  78% (55/70)\u001b[K\rremote: Compressing objects:  80% (56/70)\u001b[K\rremote: Compressing objects:  81% (57/70)\u001b[K\rremote: Compressing objects:  82% (58/70)\u001b[K\rremote: Compressing objects:  84% (59/70)\u001b[K\rremote: Compressing objects:  85% (60/70)\u001b[K\rremote: Compressing objects:  87% (61/70)\u001b[K\rremote: Compressing objects:  88% (62/70)\u001b[K\rremote: Compressing objects:  90% (63/70)\u001b[K\rremote: Compressing objects:  91% (64/70)\u001b[K\rremote: Compressing objects:  92% (65/70)\u001b[K\rremote: Compressing objects:  94% (66/70)\u001b[K\rremote: Compressing objects:  95% (67/70)\u001b[K\rremote: Compressing objects:  97% (68/70)\u001b[K\rremote: Compressing objects:  98% (69/70)\u001b[K\rremote: Compressing objects: 100% (70/70)\u001b[K\rremote: Compressing objects: 100% (70/70), done.\u001b[K\n",
            "Receiving objects:   1% (1/74)\rReceiving objects:   2% (2/74)\rReceiving objects:   4% (3/74)\rReceiving objects:   5% (4/74)\rReceiving objects:   6% (5/74)\rReceiving objects:   8% (6/74)\rReceiving objects:   9% (7/74)\rReceiving objects:  10% (8/74)\rReceiving objects:  12% (9/74)\rReceiving objects:  13% (10/74)\rReceiving objects:  14% (11/74)\rReceiving objects:  16% (12/74)\rReceiving objects:  17% (13/74)\rReceiving objects:  18% (14/74)\rReceiving objects:  20% (15/74)\rReceiving objects:  21% (16/74)\rReceiving objects:  22% (17/74)\rReceiving objects:  24% (18/74)\rReceiving objects:  25% (19/74)\rReceiving objects:  27% (20/74)\rReceiving objects:  28% (21/74)\rReceiving objects:  29% (22/74)\rReceiving objects:  31% (23/74)\rReceiving objects:  32% (24/74)\rReceiving objects:  33% (25/74)\rReceiving objects:  35% (26/74)\rReceiving objects:  36% (27/74)\rReceiving objects:  37% (28/74)\rremote: Total 74 (delta 33), reused 0 (delta 0), pack-reused 0\u001b[K\n",
            "Receiving objects:  39% (29/74)\rReceiving objects:  40% (30/74)\rReceiving objects:  41% (31/74)\rReceiving objects:  43% (32/74)\rReceiving objects:  44% (33/74)\rReceiving objects:  45% (34/74)\rReceiving objects:  47% (35/74)\rReceiving objects:  48% (36/74)\rReceiving objects:  50% (37/74)\rReceiving objects:  51% (38/74)\rReceiving objects:  52% (39/74)\rReceiving objects:  54% (40/74)\rReceiving objects:  55% (41/74)\rReceiving objects:  56% (42/74)\rReceiving objects:  58% (43/74)\rReceiving objects:  59% (44/74)\rReceiving objects:  60% (45/74)\rReceiving objects:  62% (46/74)\rReceiving objects:  63% (47/74)\rReceiving objects:  64% (48/74)\rReceiving objects:  66% (49/74)\rReceiving objects:  67% (50/74)\rReceiving objects:  68% (51/74)\rReceiving objects:  70% (52/74)\rReceiving objects:  71% (53/74)\rReceiving objects:  72% (54/74)\rReceiving objects:  74% (55/74)\rReceiving objects:  75% (56/74)\rReceiving objects:  77% (57/74)\rReceiving objects:  78% (58/74)\rReceiving objects:  79% (59/74)\rReceiving objects:  81% (60/74)\rReceiving objects:  82% (61/74)\rReceiving objects:  83% (62/74)\rReceiving objects:  85% (63/74)\rReceiving objects:  86% (64/74)\rReceiving objects:  87% (65/74)\rReceiving objects:  89% (66/74)\rReceiving objects:  90% (67/74)\rReceiving objects:  91% (68/74)\rReceiving objects:  93% (69/74)\rReceiving objects:  94% (70/74)\rReceiving objects:  95% (71/74)\rReceiving objects:  97% (72/74)\rReceiving objects:  98% (73/74)\rReceiving objects: 100% (74/74)\rReceiving objects: 100% (74/74), 23.51 KiB | 5.88 MiB/s, done.\n",
            "Resolving deltas:   0% (0/33)\rResolving deltas:   3% (1/33)\rResolving deltas:   6% (2/33)\rResolving deltas:   9% (3/33)\rResolving deltas:  12% (4/33)\rResolving deltas:  15% (5/33)\rResolving deltas:  18% (6/33)\rResolving deltas:  21% (7/33)\rResolving deltas:  24% (8/33)\rResolving deltas:  27% (9/33)\rResolving deltas:  30% (10/33)\rResolving deltas:  33% (11/33)\rResolving deltas:  36% (12/33)\rResolving deltas:  39% (13/33)\rResolving deltas:  42% (14/33)\rResolving deltas:  45% (15/33)\rResolving deltas:  48% (16/33)\rResolving deltas:  51% (17/33)\rResolving deltas:  54% (18/33)\rResolving deltas:  57% (19/33)\rResolving deltas:  60% (20/33)\rResolving deltas:  63% (21/33)\rResolving deltas:  66% (22/33)\rResolving deltas:  69% (23/33)\rResolving deltas:  72% (24/33)\rResolving deltas:  75% (25/33)\rResolving deltas:  78% (26/33)\rResolving deltas:  81% (27/33)\rResolving deltas:  84% (28/33)\rResolving deltas:  87% (29/33)\rResolving deltas:  90% (30/33)\rResolving deltas:  93% (31/33)\rResolving deltas:  96% (32/33)\rResolving deltas: 100% (33/33)\rResolving deltas: 100% (33/33), done.\n",
            "/content/Google-Colab/Google-Colab\n",
            "Already up to date.\n",
            "equations.py  Ideal_Gas_Nozzle_Calculations.ipynb  README.md\n"
          ]
        }
      ]
    },
    {
      "cell_type": "code",
      "execution_count": 10,
      "metadata": {
        "id": "21alvXRrmiAT",
        "outputId": "5fb6d52f-e8ad-4e5b-b58f-537960ff84fe",
        "colab": {
          "base_uri": "https://localhost:8080/",
          "height": 245
        }
      },
      "outputs": [
        {
          "output_type": "stream",
          "name": "stdout",
          "text": [
            "Inlet Temperature: 298.15 K\n",
            "Inlet stagnation enthalp: 299640.75 J/kg\n"
          ]
        },
        {
          "output_type": "error",
          "ename": "NameError",
          "evalue": "name 'c_sound' is not defined",
          "traceback": [
            "\u001b[0;31m---------------------------------------------------------------------------\u001b[0m",
            "\u001b[0;31mNameError\u001b[0m                                 Traceback (most recent call last)",
            "\u001b[0;32m<ipython-input-10-b3b68dc99c4b>\u001b[0m in \u001b[0;36m<cell line: 29>\u001b[0;34m()\u001b[0m\n\u001b[1;32m     27\u001b[0m \u001b[0;34m\u001b[0m\u001b[0m\n\u001b[1;32m     28\u001b[0m \u001b[0;31m# density(100e3, R_air, T_air)\u001b[0m\u001b[0;34m\u001b[0m\u001b[0;34m\u001b[0m\u001b[0m\n\u001b[0;32m---> 29\u001b[0;31m \u001b[0mc_sound\u001b[0m\u001b[0;34m(\u001b[0m\u001b[0mT_air\u001b[0m\u001b[0;34m,\u001b[0m \u001b[0mk_air\u001b[0m\u001b[0;34m,\u001b[0m \u001b[0mR_air\u001b[0m\u001b[0;34m)\u001b[0m\u001b[0;34m\u001b[0m\u001b[0;34m\u001b[0m\u001b[0m\n\u001b[0m\u001b[1;32m     30\u001b[0m \u001b[0;34m\u001b[0m\u001b[0m\n\u001b[1;32m     31\u001b[0m \u001b[0mD_inlet\u001b[0m \u001b[0;34m=\u001b[0m \u001b[0;36m1.0\u001b[0m \u001b[0;31m# [m] diameter at the inlet\u001b[0m\u001b[0;34m\u001b[0m\u001b[0;34m\u001b[0m\u001b[0m\n",
            "\u001b[0;31mNameError\u001b[0m: name 'c_sound' is not defined"
          ]
        }
      ],
      "source": [
        "import equations as eq\n",
        "#from equations import c_sound\n",
        "#from equations import density\n",
        "\n",
        "p_inlet = 2000.0e3 #[Pa] static pressure at the inlet of the nozzle\n",
        "p_outlet = 100.0e3 #[Pa] static pressure at the outlet of the nozzle\n",
        "v_inlet = 0.0 #[m/s] velocity at the inlet\n",
        "\n",
        "degC = 273.15 # [K] 0 degrees Celcius is degC Kelvin\n",
        "\n",
        "cp_inlet = 1005.0 # [J/kg/K] heat capacity of air\n",
        "T_inlet = 25+degC #[K] temperature at the inlet of the nozzle\n",
        "print(\"Inlet Temperature: \" + str(T_inlet) + \" K\")\n",
        "\n",
        "h_0_inlet = cp_inlet * T_inlet + v_inlet**2/2\n",
        "print(\"Inlet stagnation enthalp: \" + str(h_0_inlet) + \" J/kg\" )\n",
        "\n",
        "\n",
        "k = 1.4 # isentropic gas constant for hot products of combustion.\n",
        "#testing new changes\n",
        "Ma_throat = 1.0 # [-] mach number at the throat (always)\n",
        "rho_inlet = 1.2 # [kg/m^3] density`\n",
        "\n",
        "T_air = 20+degC # [K] temperature of air\n",
        "k_air = 1.4 # [-] specific heat ratio\n",
        "R_air = 287.0 # [kJ/kg/K]\n",
        "\n",
        "# density(100e3, R_air, T_air)\n",
        "c_sound(T_air, k_air, R_air)\n",
        "\n",
        "D_inlet = 1.0 # [m] diameter at the inlet\n",
        "\n",
        "\n",
        "\n",
        "\n"
      ]
    }
  ]
}