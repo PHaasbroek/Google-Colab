{
  "nbformat": 4,
  "nbformat_minor": 0,
  "metadata": {
    "colab": {
      "provenance": [],
      "authorship_tag": "ABX9TyOnfED0marZIVOPiHP0EK8k",
      "include_colab_link": true
    },
    "kernelspec": {
      "name": "python3",
      "display_name": "Python 3"
    },
    "language_info": {
      "name": "python"
    }
  },
  "cells": [
    {
      "cell_type": "markdown",
      "metadata": {
        "id": "view-in-github",
        "colab_type": "text"
      },
      "source": [
        "<a href=\"https://colab.research.google.com/github/PHaasbroek/Google-Colab/blob/main/Fluid-Solver.ipynb\" target=\"_parent\"><img src=\"https://colab.research.google.com/assets/colab-badge.svg\" alt=\"Open In Colab\"/></a>"
      ]
    },
    {
      "cell_type": "markdown",
      "source": [
        "# Introduction\n",
        "\n",
        "The aim of this notebook is to simulate a simple numerical domain.\n",
        "\n",
        "1. Create a laminar, steady, fluid solver for one dimensional pipe flow.\n",
        "2. Create a RANS turbulence model.\n",
        "3. Employ the turbulence model in the one dimensional pipe flow.\n",
        "4. Employ the turbulence model for flow past a backward facing step.\n",
        "5. Employ the turbulence model for flow past an aerofoil.\n",
        "\n",
        "# The Navier-Stokes Equations\n",
        "\n",
        "The incompressible Navier-Stokes (NS) equations for three dimensions are given as:\n",
        "\n",
        "$$\\frac{\\partial u}{\\partial t} + u \\frac{\\partial u}{\\partial x} + v \\frac{\\partial u}{\\partial y} + w \\frac{\\partial u}{\\partial z} = -\\frac{1}{\\rho} \\frac{\\partial p}{\\partial x} + \\nu \\left(\\frac{\\partial^2 u}{\\partial x^2} + \\frac{\\partial^2 u}{\\partial y^2} + \\frac{\\partial^2 u}{\\partial z^2}\\right)$$\n",
        "\n",
        "$$\\frac{\\partial v}{\\partial t} + u \\frac{\\partial v}{\\partial x} + v \\frac{\\partial v}{\\partial y} + w \\frac{\\partial v}{\\partial z} = -\\frac{1}{\\rho} \\frac{\\partial p}{\\partial y} + \\nu \\left(\\frac{\\partial^2 v}{\\partial x^2} + \\frac{\\partial^2 v}{\\partial y^2} + \\frac{\\partial^2 v}{\\partial z^2}\\right)$$\n",
        "\n",
        "$$\\frac{\\partial w}{\\partial t} + u \\frac{\\partial w}{\\partial x} + v \\frac{\\partial w}{\\partial y} + w \\frac{\\partial w}{\\partial z} = -\\frac{1}{\\rho} \\frac{\\partial p}{\\partial z} + \\nu \\left(\\frac{\\partial^2 w}{\\partial x^2} + \\frac{\\partial^2 w}{\\partial y^2} + \\frac{\\partial^2 w}{\\partial z^2}\\right)$$\n",
        "\n",
        "\n",
        "$$\\frac{\\partial p}{\\partial x} + \\frac{\\partial p}{\\partial y} + \\frac{\\partial p}{\\partial y} = 0$$\n",
        "\n",
        "where:\n",
        "\n",
        "* $u$ is the velocity in the $x$-direction\n",
        "* $v$ is the velocity in the $y$-direction\n",
        "* $w$ is the velocity in the $z$-direction\n",
        "* $p$ is the pressure\n",
        "* $\\rho$ is the density\n",
        "* $\\nu$ is the kinematic viscosity\n",
        "\n",
        "# Solution to One-Dimensional Pipe Flow\n",
        "## Navier-Stokes equations\n",
        "For the first (1.) case, i.e. one dimensional flow through a pipe, the NS equation is reduced to:\n",
        "$$ \\frac{\\partial u}{\\partial t} + u \\frac{\\partial u}{\\partial x} + v \\frac{\\partial u}{\\partial y} + w \\frac{\\partial u}{\\partial z} = -\\frac{1}{\\rho} \\frac{\\partial p}{\\partial x} + \\nu \\left(\\frac{\\partial^2 u}{\\partial x^2} + \\frac{\\partial^2 u}{\\partial y^2} + \\frac{\\partial^2 u}{\\partial z^2}\\right)$$\n",
        "$$\\frac{\\partial u}{\\partial t} = 0$$\n",
        "\n",
        "The dimensionless first cell height, $y_1^+$, is defined as\n",
        "$$y_1^+ = \\frac{\\rho U_\\tau y_1}{\\mu},$$\n",
        "where $\\rho$ is the fluid density, $U_\\tau$ is the friction velocity, $y_1$ is the first cell height, and $\\mu$ is the fluid dynamic viscosity. Friction velocity, $U_\\tau$ is given as\n",
        "$$U_\\tau = \\sqrt{\\frac{\\tau_w}{\\rho}}, $$ where wall shear stress, $\\tau_w$, is given as\n",
        "$$\\tau_w = \\frac{1}{2} C_f \\rho U^2.$$\n",
        "Skin friction, $C_f$, is approximated empirically as\n",
        "$$C_f = 0.079 Re^{-0.25}$$\n",
        "for internal flow, and as\n",
        "$$C_f = 0.058 Re^{-0.2}$$\n",
        "for external flow.\n"
      ],
      "metadata": {
        "id": "HrATtIdq7ndc"
      }
    },
    {
      "cell_type": "code",
      "source": [
        "import math\n",
        "\n",
        "cellNumberHeight = 100 # number of cells through the height of the domain\n",
        "cellWidth = 1.0 # unit width of cells\n",
        "firstCellHeight = 8e-5 # [m]\n",
        "diameter = 0.050 # [m]\n",
        "meanVelocity = 2.0 # [m/s]\n",
        "density = 1000.0 # [kg/m^3]\n",
        "dynamicViscosity = 0.01 # [Pa * s]\n",
        "\n",
        "Re = diameter * meanVelocity * density / dynamicViscosity\n",
        "skinFriction = 0.079 * Re**(-0.25)\n",
        "wallShearStress = 0.5 * skinFriction * density * meanVelocity**2\n",
        "frictionVelocity = math.sqrt(wallShearStress / density)\n",
        "dimensionlessFirstCellHeight = density * frictionVelocity * firstCellHeight / dynamicViscosity #\n",
        "\n",
        "print(\"Reynolds number: \" + str(Re) + \" [-]\")\n",
        "print(\"Skin friction: \" + str(skinFriction) + \" [-]\")\n",
        "print(\"Wall shear stress: \" + str(wallShearStress) + \" [Pa]\")\n",
        "print(\"Friction velocity: \" + str(frictionVelocity) + \" [m/s]\")\n",
        "print(\"Dimensionless first cell height: \" + str(dimensionlessFirstCellHeight) + \" [-]\")\n",
        "\n",
        "# Make the flow domain\n",
        "\n"
      ],
      "metadata": {
        "id": "htJsa-tr_WhP",
        "outputId": "8828aad8-9b43-4664-beb2-a97d378c3299",
        "colab": {
          "base_uri": "https://localhost:8080/"
        }
      },
      "execution_count": 2,
      "outputs": [
        {
          "output_type": "stream",
          "name": "stdout",
          "text": [
            "Reynolds number: 10000.0 [-]\n",
            "Skin friction: 0.0079 [-]\n",
            "Wall shear stress: 15.8 [Pa]\n",
            "Friction velocity: 0.12569805089976535 [m/s]\n",
            "Dimensionless first cell height: 1.005584407198123 [-]\n"
          ]
        }
      ]
    },
    {
      "cell_type": "markdown",
      "source": [
        "## Mesh Generation\n",
        "The mesh is created by:\n",
        "1. Assume the first cell height is as specified.\n",
        "2. Assume the number of cells are as specified.\n",
        "3. Assume constant expansion ratio.\n",
        "3. Calculating the expansion ratio from the given specifications.\n",
        "\n"
      ],
      "metadata": {
        "id": "BT3xsXLI6naO"
      }
    },
    {
      "cell_type": "code",
      "source": [
        "def sumOfGeometricSeries_f(firstEntry: float, ratio: float, numberOfEntries):\n",
        "  # assume that the there will always be a difference in cell height\n",
        "  if ratio==1:\n",
        "    ratio += 1e-9\n",
        "\n",
        "  firstEntry * (1 - ratio**numberOfEntries) / (1 - ratio)\n",
        "\n",
        "totalHeightZero_f = lambda expansionRatio: sumOfGeometricSeries_f(firstCellHeight, expansionRatio, cellNumberHeight) - diameter\n",
        "\n",
        "# prompt: Generate  a loop which solves a non linear function using iteration.\n",
        "def nonLinearSolver(f, x0, tol=1e-3, max_iter=1000):\n",
        "  \"\"\"\n",
        "  Solves a non-linear function using iteration.\n",
        "\n",
        "  Args:\n",
        "    f: The function to solve.\n",
        "    x0: The initial guess.\n",
        "    tol: The tolerance for convergence.\n",
        "    max_iter: The maximum number of iterations.\n",
        "\n",
        "  Returns:\n",
        "    The solution to the non-linear function.\n",
        "  \"\"\"\n",
        "\n",
        "  for i in range(max_iter):\n",
        "    x1 = x0 - f(x0) / derivative(f, x0)  # Newton-Raphson method\n",
        "    print(x1)\n",
        "    if abs((x1 - x0)/x0) < tol:\n",
        "      return x1\n",
        "    x0 = x1\n",
        "\n",
        "\n",
        "  raise Exception(\"Non-linear solver did not converge.\")\n",
        "\n",
        "def derivative(f, x):\n",
        "  \"\"\"\n",
        "  Calculates the derivative of a function using the central difference method.\n",
        "\n",
        "  Args:\n",
        "    f: The function to differentiate.\n",
        "    x: The point at which to calculate the derivative.\n",
        "\n",
        "  Returns:\n",
        "    The derivative of the function at x.\n",
        "  \"\"\"\n",
        "\n",
        "  h = 1e-9\n",
        "  return (f(x + h) - f(x - h)) / (2 * h)\n",
        "\n",
        "print(\"x0=2\")\n",
        "nonLinearSolver(totalHeightZero_f, 2)\n",
        "print(\"x0=1\")\n",
        "nonLinearSolver(totalHeightZero_f, 1)\n",
        "print(\"x0=0\")\n",
        "nonLinearSolver(totalHeightZero_f, 0)"
      ],
      "metadata": {
        "id": "d-CggRmWx8hU",
        "outputId": "3ef9be5d-6a3b-48fd-cfa5-5804ce5186ff",
        "colab": {
          "base_uri": "https://localhost:8080/",
          "height": 373
        }
      },
      "execution_count": 12,
      "outputs": [
        {
          "output_type": "stream",
          "name": "stdout",
          "text": [
            "x0=2\n"
          ]
        },
        {
          "output_type": "error",
          "ename": "TypeError",
          "evalue": "unsupported operand type(s) for -: 'NoneType' and 'float'",
          "traceback": [
            "\u001b[0;31m---------------------------------------------------------------------------\u001b[0m",
            "\u001b[0;31mTypeError\u001b[0m                                 Traceback (most recent call last)",
            "\u001b[0;32m<ipython-input-12-5e887c2aa78c>\u001b[0m in \u001b[0;36m<cell line: 51>\u001b[0;34m()\u001b[0m\n\u001b[1;32m     49\u001b[0m \u001b[0;34m\u001b[0m\u001b[0m\n\u001b[1;32m     50\u001b[0m \u001b[0mprint\u001b[0m\u001b[0;34m(\u001b[0m\u001b[0;34m\"x0=2\"\u001b[0m\u001b[0;34m)\u001b[0m\u001b[0;34m\u001b[0m\u001b[0;34m\u001b[0m\u001b[0m\n\u001b[0;32m---> 51\u001b[0;31m \u001b[0mnonLinearSolver\u001b[0m\u001b[0;34m(\u001b[0m\u001b[0mtotalHeightZero_f\u001b[0m\u001b[0;34m,\u001b[0m \u001b[0;36m2\u001b[0m\u001b[0;34m)\u001b[0m\u001b[0;34m\u001b[0m\u001b[0;34m\u001b[0m\u001b[0m\n\u001b[0m\u001b[1;32m     52\u001b[0m \u001b[0mprint\u001b[0m\u001b[0;34m(\u001b[0m\u001b[0;34m\"x0=1\"\u001b[0m\u001b[0;34m)\u001b[0m\u001b[0;34m\u001b[0m\u001b[0;34m\u001b[0m\u001b[0m\n\u001b[1;32m     53\u001b[0m \u001b[0mnonLinearSolver\u001b[0m\u001b[0;34m(\u001b[0m\u001b[0mtotalHeightZero_f\u001b[0m\u001b[0;34m,\u001b[0m \u001b[0;36m1\u001b[0m\u001b[0;34m)\u001b[0m\u001b[0;34m\u001b[0m\u001b[0;34m\u001b[0m\u001b[0m\n",
            "\u001b[0;32m<ipython-input-12-5e887c2aa78c>\u001b[0m in \u001b[0;36mnonLinearSolver\u001b[0;34m(f, x0, tol, max_iter)\u001b[0m\n\u001b[1;32m     24\u001b[0m \u001b[0;34m\u001b[0m\u001b[0m\n\u001b[1;32m     25\u001b[0m   \u001b[0;32mfor\u001b[0m \u001b[0mi\u001b[0m \u001b[0;32min\u001b[0m \u001b[0mrange\u001b[0m\u001b[0;34m(\u001b[0m\u001b[0mmax_iter\u001b[0m\u001b[0;34m)\u001b[0m\u001b[0;34m:\u001b[0m\u001b[0;34m\u001b[0m\u001b[0;34m\u001b[0m\u001b[0m\n\u001b[0;32m---> 26\u001b[0;31m     \u001b[0mx1\u001b[0m \u001b[0;34m=\u001b[0m \u001b[0mx0\u001b[0m \u001b[0;34m-\u001b[0m \u001b[0mf\u001b[0m\u001b[0;34m(\u001b[0m\u001b[0mx0\u001b[0m\u001b[0;34m)\u001b[0m \u001b[0;34m/\u001b[0m \u001b[0mderivative\u001b[0m\u001b[0;34m(\u001b[0m\u001b[0mf\u001b[0m\u001b[0;34m,\u001b[0m \u001b[0mx0\u001b[0m\u001b[0;34m)\u001b[0m  \u001b[0;31m# Newton-Raphson method\u001b[0m\u001b[0;34m\u001b[0m\u001b[0;34m\u001b[0m\u001b[0m\n\u001b[0m\u001b[1;32m     27\u001b[0m     \u001b[0mprint\u001b[0m\u001b[0;34m(\u001b[0m\u001b[0mx1\u001b[0m\u001b[0;34m)\u001b[0m\u001b[0;34m\u001b[0m\u001b[0;34m\u001b[0m\u001b[0m\n\u001b[1;32m     28\u001b[0m     \u001b[0;32mif\u001b[0m \u001b[0mabs\u001b[0m\u001b[0;34m(\u001b[0m\u001b[0;34m(\u001b[0m\u001b[0mx1\u001b[0m \u001b[0;34m-\u001b[0m \u001b[0mx0\u001b[0m\u001b[0;34m)\u001b[0m\u001b[0;34m/\u001b[0m\u001b[0mx0\u001b[0m\u001b[0;34m)\u001b[0m \u001b[0;34m<\u001b[0m \u001b[0mtol\u001b[0m\u001b[0;34m:\u001b[0m\u001b[0;34m\u001b[0m\u001b[0;34m\u001b[0m\u001b[0m\n",
            "\u001b[0;32m<ipython-input-12-5e887c2aa78c>\u001b[0m in \u001b[0;36m<lambda>\u001b[0;34m(expansionRatio)\u001b[0m\n\u001b[1;32m      6\u001b[0m   \u001b[0mfirstEntry\u001b[0m \u001b[0;34m*\u001b[0m \u001b[0;34m(\u001b[0m\u001b[0;36m1\u001b[0m \u001b[0;34m-\u001b[0m \u001b[0mratio\u001b[0m\u001b[0;34m**\u001b[0m\u001b[0mnumberOfEntries\u001b[0m\u001b[0;34m)\u001b[0m \u001b[0;34m/\u001b[0m \u001b[0;34m(\u001b[0m\u001b[0;36m1\u001b[0m \u001b[0;34m-\u001b[0m \u001b[0mratio\u001b[0m\u001b[0;34m)\u001b[0m\u001b[0;34m\u001b[0m\u001b[0;34m\u001b[0m\u001b[0m\n\u001b[1;32m      7\u001b[0m \u001b[0;34m\u001b[0m\u001b[0m\n\u001b[0;32m----> 8\u001b[0;31m \u001b[0mtotalHeightZero_f\u001b[0m \u001b[0;34m=\u001b[0m \u001b[0;32mlambda\u001b[0m \u001b[0mexpansionRatio\u001b[0m\u001b[0;34m:\u001b[0m \u001b[0msumOfGeometricSeries_f\u001b[0m\u001b[0;34m(\u001b[0m\u001b[0mfirstCellHeight\u001b[0m\u001b[0;34m,\u001b[0m \u001b[0mexpansionRatio\u001b[0m\u001b[0;34m,\u001b[0m \u001b[0mcellNumberHeight\u001b[0m\u001b[0;34m)\u001b[0m \u001b[0;34m-\u001b[0m \u001b[0mdiameter\u001b[0m\u001b[0;34m\u001b[0m\u001b[0;34m\u001b[0m\u001b[0m\n\u001b[0m\u001b[1;32m      9\u001b[0m \u001b[0;34m\u001b[0m\u001b[0m\n\u001b[1;32m     10\u001b[0m \u001b[0;31m# prompt: Generate  a loop which solves a non linear function using iteration.\u001b[0m\u001b[0;34m\u001b[0m\u001b[0;34m\u001b[0m\u001b[0m\n",
            "\u001b[0;31mTypeError\u001b[0m: unsupported operand type(s) for -: 'NoneType' and 'float'"
          ]
        }
      ]
    },
    {
      "cell_type": "code",
      "source": [
        "def testFunction(a, b=1, c=2):\n",
        "  print(a)\n",
        "  print(b)\n",
        "  print(c)\n",
        "\n",
        "testFunction(5, 7)"
      ],
      "metadata": {
        "id": "fS1culLVeGXM",
        "outputId": "5bb2286c-31ac-4a31-e405-c4f8aeeedb5d",
        "colab": {
          "base_uri": "https://localhost:8080/"
        }
      },
      "execution_count": 9,
      "outputs": [
        {
          "output_type": "stream",
          "name": "stdout",
          "text": [
            "5\n",
            "7\n",
            "2\n"
          ]
        }
      ]
    }
  ]
}