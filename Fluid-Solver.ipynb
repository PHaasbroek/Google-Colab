{
  "nbformat": 4,
  "nbformat_minor": 0,
  "metadata": {
    "colab": {
      "provenance": [],
      "authorship_tag": "ABX9TyOewOPRWq9bVAs5GrLmU4fd",
      "include_colab_link": true
    },
    "kernelspec": {
      "name": "python3",
      "display_name": "Python 3"
    },
    "language_info": {
      "name": "python"
    }
  },
  "cells": [
    {
      "cell_type": "markdown",
      "metadata": {
        "id": "view-in-github",
        "colab_type": "text"
      },
      "source": [
        "<a href=\"https://colab.research.google.com/github/PHaasbroek/Google-Colab/blob/main/Fluid-Solver.ipynb\" target=\"_parent\"><img src=\"https://colab.research.google.com/assets/colab-badge.svg\" alt=\"Open In Colab\"/></a>"
      ]
    },
    {
      "cell_type": "markdown",
      "source": [
        "# Introduction\n",
        "\n",
        "The aim of this notebook is to simulate a simple numerical domain.\n",
        "\n",
        "1. Create a laminar, steady, fluid solver for one dimensional pipe flow.\n",
        "2. Create a RANS turbulence model.\n",
        "3. Employ the turbulence model in the one dimensional pipe flow.\n",
        "4. Employ the turbulence model for flow past a backward facing step.\n",
        "5. Employ the turbulence model for flow past an aerofoil.\n",
        "\n",
        "# The Navier-Stokes Equations\n",
        "\n",
        "The incompressible Navier-Stokes (NS) equations for three dimensions are given as:\n",
        "\n",
        "$$\\frac{\\partial u}{\\partial t} + u \\frac{\\partial u}{\\partial x} + v \\frac{\\partial u}{\\partial y} + w \\frac{\\partial u}{\\partial z} = -\\frac{1}{\\rho} \\frac{\\partial p}{\\partial x} + \\nu \\left(\\frac{\\partial^2 u}{\\partial x^2} + \\frac{\\partial^2 u}{\\partial y^2} + \\frac{\\partial^2 u}{\\partial z^2}\\right)$$\n",
        "\n",
        "$$\\frac{\\partial v}{\\partial t} + u \\frac{\\partial v}{\\partial x} + v \\frac{\\partial v}{\\partial y} + w \\frac{\\partial v}{\\partial z} = -\\frac{1}{\\rho} \\frac{\\partial p}{\\partial y} + \\nu \\left(\\frac{\\partial^2 v}{\\partial x^2} + \\frac{\\partial^2 v}{\\partial y^2} + \\frac{\\partial^2 v}{\\partial z^2}\\right)$$\n",
        "\n",
        "$$\\frac{\\partial w}{\\partial t} + u \\frac{\\partial w}{\\partial x} + v \\frac{\\partial w}{\\partial y} + w \\frac{\\partial w}{\\partial z} = -\\frac{1}{\\rho} \\frac{\\partial p}{\\partial z} + \\nu \\left(\\frac{\\partial^2 w}{\\partial x^2} + \\frac{\\partial^2 w}{\\partial y^2} + \\frac{\\partial^2 w}{\\partial z^2}\\right)$$\n",
        "\n",
        "\n",
        "$$\\frac{\\partial p}{\\partial x} + \\frac{\\partial p}{\\partial y} + \\frac{\\partial p}{\\partial y} = 0$$\n",
        "\n",
        "where:\n",
        "\n",
        "* $u$ is the velocity in the $x$-direction\n",
        "* $v$ is the velocity in the $y$-direction\n",
        "* $w$ is the velocity in the $z$-direction\n",
        "* $p$ is the pressure\n",
        "* $\\rho$ is the density\n",
        "* $\\nu$ is the kinematic viscosity\n",
        "\n",
        "# Solution to One-Dimensional Pipe Flow\n",
        "## Navier-Stokes equations\n",
        "For the first (1.) case, i.e. one dimensional flow through a pipe, the NS equation is reduced to:\n",
        "$$ \\frac{\\partial u}{\\partial t} + u \\frac{\\partial u}{\\partial x} + v \\frac{\\partial u}{\\partial y} + w \\frac{\\partial u}{\\partial z} = -\\frac{1}{\\rho} \\frac{\\partial p}{\\partial x} + \\nu \\left(\\frac{\\partial^2 u}{\\partial x^2} + \\frac{\\partial^2 u}{\\partial y^2} + \\frac{\\partial^2 u}{\\partial z^2}\\right)$$\n",
        "$$\\frac{\\partial u}{\\partial t} = 0$$\n",
        "\n",
        "The dimensionless first cell height, $y_1^+$, is defined as\n",
        "$$y_1^+ = \\frac{\\rho U_\\tau y_1}{\\mu},$$\n",
        "where $\\rho$ is the fluid density, $U_\\tau$ is the friction velocity, $y_1$ is the first cell height, and $\\mu$ is the fluid dynamic viscosity. Friction velocity, $U_\\tau$ is given as\n",
        "$$U_\\tau = \\sqrt{\\frac{\\tau_w}{\\rho}}, $$ where wall shear stress, $\\tau_w$, is given as\n",
        "$$\\tau_w = \\frac{1}{2} C_f \\rho U^2.$$\n",
        "Skin friction, $C_f$, is approximated empirically as\n",
        "$$C_f = 0.079 Re^{-0.25}$$\n",
        "for internal flow, and as\n",
        "$$C_f = 0.058 Re^{-0.2}$$\n",
        "for external flow.\n"
      ],
      "metadata": {
        "id": "HrATtIdq7ndc"
      }
    },
    {
      "cell_type": "code",
      "source": [
        "import math\n",
        "\n",
        "cellNumberHeight = 100 # number of cells through the height of the domain\n",
        "cellWidth = 1.0 # unit width of cells\n",
        "firstCellHeight = 8e-5 # [m]\n",
        "diameter = 0.050 # [m]\n",
        "meanVelocity = 2.0 # [m/s]\n",
        "density = 1000.0 # [kg/m^3]\n",
        "dynamicViscosity = 0.01 # [Pa * s]\n",
        "\n",
        "Re = diameter * meanVelocity * density / dynamicViscosity\n",
        "skinFriction = 0.079 * Re**(-0.25)\n",
        "wallShearStress = 0.5 * skinFriction * density * meanVelocity**2\n",
        "frictionVelocity = math.sqrt(wallShearStress / density)\n",
        "dimensionlessFirstCellHeight = density * frictionVelocity * firstCellHeight / dynamicViscosity #\n",
        "\n",
        "print(\"Reynolds number: \" + str(Re) + \" [-]\")\n",
        "print(\"Skin friction: \" + str(skinFriction) + \" [-]\")\n",
        "print(\"Wall shear stress: \" + str(wallShearStress) + \" [Pa]\")\n",
        "print(\"Friction velocity: \" + str(frictionVelocity) + \" [m/s]\")\n",
        "print(\"Dimensionless first cell height: \" + str(dimensionlessFirstCellHeight) + \" [-]\")\n",
        "\n",
        "# Make the flow domain\n",
        "\n"
      ],
      "metadata": {
        "id": "htJsa-tr_WhP",
        "outputId": "beb85be9-5645-45be-e0cd-4601739a3d57",
        "colab": {
          "base_uri": "https://localhost:8080/"
        }
      },
      "execution_count": null,
      "outputs": [
        {
          "output_type": "stream",
          "name": "stdout",
          "text": [
            "Reynolds number: 10000.0 [-]\n",
            "Skin friction: 0.0079 [-]\n",
            "Wall shear stress: 15.8 [Pa]\n",
            "Friction velocity: 0.12569805089976535 [m/s]\n",
            "Dimensionless first cell height: 1.005584407198123 [-]\n"
          ]
        }
      ]
    },
    {
      "cell_type": "markdown",
      "source": [
        "## Mesh Generation\n",
        "The mesh is created by:\n",
        "1. Assume the first cell height is as specified.\n",
        "2. Assume the number of cells are as specified.\n",
        "3. Assume constant expansion ratio.\n",
        "3. Calculating the expansion ratio from the given specifications.\n",
        "\n"
      ],
      "metadata": {
        "id": "BT3xsXLI6naO"
      }
    },
    {
      "cell_type": "code",
      "source": [
        "iCells = 0\n",
        "height = 0.0\n",
        "\n",
        "for i in range(cellNumberHeight):\n",
        "    cellHeight = firstCellHeight *\n",
        "    height +=\n",
        "print(height)\n"
      ],
      "metadata": {
        "id": "lwjhQBjY722z",
        "outputId": "5b81be20-400d-4e01-949d-bbf98d3307bd",
        "colab": {
          "base_uri": "https://localhost:8080/"
        }
      },
      "execution_count": 1,
      "outputs": [
        {
          "output_type": "error",
          "ename": "NameError",
          "evalue": "name 'n' is not defined",
          "traceback": [
            "\u001b[0;31m---------------------------------------------------------------------------\u001b[0m",
            "\u001b[0;31mNameError\u001b[0m                                 Traceback (most recent call last)",
            "\u001b[0;32m<ipython-input-1-65958d7fcc4e>\u001b[0m in \u001b[0;36m<cell line: 3>\u001b[0;34m()\u001b[0m\n\u001b[1;32m      1\u001b[0m \u001b[0miCells\u001b[0m \u001b[0;34m=\u001b[0m \u001b[0;36m0\u001b[0m\u001b[0;34m\u001b[0m\u001b[0;34m\u001b[0m\u001b[0m\n\u001b[1;32m      2\u001b[0m \u001b[0;34m\u001b[0m\u001b[0m\n\u001b[0;32m----> 3\u001b[0;31m \u001b[0;32mfor\u001b[0m \u001b[0mi\u001b[0m \u001b[0;32min\u001b[0m \u001b[0mrange\u001b[0m\u001b[0;34m(\u001b[0m\u001b[0mn\u001b[0m\u001b[0;34m)\u001b[0m\u001b[0;34m:\u001b[0m\u001b[0;34m\u001b[0m\u001b[0;34m\u001b[0m\u001b[0m\n\u001b[0m\u001b[1;32m      4\u001b[0m     \u001b[0mcounter\u001b[0m \u001b[0;34m+=\u001b[0m \u001b[0mi\u001b[0m\u001b[0;34m\u001b[0m\u001b[0;34m\u001b[0m\u001b[0m\n\u001b[1;32m      5\u001b[0m \u001b[0;34m\u001b[0m\u001b[0m\n",
            "\u001b[0;31mNameError\u001b[0m: name 'n' is not defined"
          ]
        }
      ]
    }
  ]
}