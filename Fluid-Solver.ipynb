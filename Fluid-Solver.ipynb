{
  "nbformat": 4,
  "nbformat_minor": 0,
  "metadata": {
    "colab": {
      "provenance": [],
      "authorship_tag": "ABX9TyOE06FcdWcQjQEGIvcExqRl",
      "include_colab_link": true
    },
    "kernelspec": {
      "name": "python3",
      "display_name": "Python 3"
    },
    "language_info": {
      "name": "python"
    }
  },
  "cells": [
    {
      "cell_type": "markdown",
      "metadata": {
        "id": "view-in-github",
        "colab_type": "text"
      },
      "source": [
        "<a href=\"https://colab.research.google.com/github/PHaasbroek/Google-Colab/blob/main/Fluid-Solver.ipynb\" target=\"_parent\"><img src=\"https://colab.research.google.com/assets/colab-badge.svg\" alt=\"Open In Colab\"/></a>"
      ]
    },
    {
      "cell_type": "markdown",
      "source": [
        "# Introduction\n",
        "\n",
        "The aim of this notebook is to simulate a simple numerical domain.\n",
        "\n",
        "1. Implement a laminar, steady, fluid solver for one dimensional pipe flow.\n",
        "2. Implement a RANS turbulence model.\n",
        "  1. Employ the turbulence model in the one dimensional pipe flow.\n",
        "  2. Employ the turbulence model for flow past a backward facing step.\n",
        "  3. Employ the turbulence model for flow past an aerofoil.\n",
        "\n",
        "# The Navier-Stokes Equations\n",
        "\n",
        "The incompressible Navier-Stokes (NS) equations for three dimensions are given as:\n",
        "\n",
        "$$\\frac{\\partial u}{\\partial t} + u \\frac{\\partial u}{\\partial x} + v \\frac{\\partial u}{\\partial y} + w \\frac{\\partial u}{\\partial z} = -\\frac{1}{\\rho} \\frac{\\partial p}{\\partial x} + \\nu \\left(\\frac{\\partial^2 u}{\\partial x^2} + \\frac{\\partial^2 u}{\\partial y^2} + \\frac{\\partial^2 u}{\\partial z^2}\\right)$$\n",
        "\n",
        "$$\\frac{\\partial v}{\\partial t} + u \\frac{\\partial v}{\\partial x} + v \\frac{\\partial v}{\\partial y} + w \\frac{\\partial v}{\\partial z} = -\\frac{1}{\\rho} \\frac{\\partial p}{\\partial y} + \\nu \\left(\\frac{\\partial^2 v}{\\partial x^2} + \\frac{\\partial^2 v}{\\partial y^2} + \\frac{\\partial^2 v}{\\partial z^2}\\right)$$\n",
        "\n",
        "$$\\frac{\\partial w}{\\partial t} + u \\frac{\\partial w}{\\partial x} + v \\frac{\\partial w}{\\partial y} + w \\frac{\\partial w}{\\partial z} = -\\frac{1}{\\rho} \\frac{\\partial p}{\\partial z} + \\nu \\left(\\frac{\\partial^2 w}{\\partial x^2} + \\frac{\\partial^2 w}{\\partial y^2} + \\frac{\\partial^2 w}{\\partial z^2}\\right)$$\n",
        "\n",
        "\n",
        "$$\\frac{\\partial p}{\\partial x} + \\frac{\\partial p}{\\partial y} + \\frac{\\partial p}{\\partial y} = 0$$\n",
        "\n",
        "where:\n",
        "\n",
        "* $u$ is the velocity in the $x$-direction\n",
        "* $v$ is the velocity in the $y$-direction\n",
        "* $w$ is the velocity in the $z$-direction\n",
        "* $p$ is the pressure\n",
        "* $\\rho$ is the density\n",
        "* $\\nu$ is the kinematic viscosity\n",
        "\n",
        "# Solution to One-Dimensional Pipe Flow\n",
        "## Navier-Stokes equations\n",
        "For the first (1.) case, i.e. one dimensional flow through a pipe, the NS equation is reduced to:\n",
        "$$ \\frac{\\partial u}{\\partial t} + u \\frac{\\partial u}{\\partial x} + v \\frac{\\partial u}{\\partial y} + w \\frac{\\partial u}{\\partial z} = -\\frac{1}{\\rho} \\frac{\\partial p}{\\partial x} + \\nu \\left(\\frac{\\partial^2 u}{\\partial x^2} + \\frac{\\partial^2 u}{\\partial y^2} + \\frac{\\partial^2 u}{\\partial z^2}\\right)$$\n",
        "$$\\frac{\\partial u}{\\partial t} = 0$$\n",
        "\n",
        "The dimensionless first cell height, $y_1^+$, is defined as\n",
        "$$y_1^+ = \\frac{\\rho U_\\tau y_1}{\\mu},$$\n",
        "where $\\rho$ is the fluid density, $U_\\tau$ is the friction velocity, $y_1$ is the first cell height, and $\\mu$ is the fluid dynamic viscosity. Friction velocity, $U_\\tau$ is given as\n",
        "$$U_\\tau = \\sqrt{\\frac{\\tau_w}{\\rho}}, $$ where wall shear stress, $\\tau_w$, is given as\n",
        "$$\\tau_w = \\frac{1}{2} C_f \\rho U^2.$$\n",
        "Skin friction, $C_f$, is approximated empirically as\n",
        "$$C_f = 0.079 Re^{-0.25}$$\n",
        "for internal flow, and as\n",
        "$$C_f = 0.058 Re^{-0.2}$$\n",
        "for external flow.\n"
      ],
      "metadata": {
        "id": "HrATtIdq7ndc"
      }
    },
    {
      "cell_type": "code",
      "source": [
        "import math\n",
        "\n",
        "cellNumberHeight = 100 # number of cells through the height of the domain\n",
        "cellWidth = 1.0 # unit width of cells\n",
        "firstCellHeight = 8e-5 # [m]\n",
        "diameter = 0.050 # [m]\n",
        "meanVelocity = 2.0 # [m/s]\n",
        "density = 1000.0 # [kg/m^3]\n",
        "dynamicViscosity = 0.01 # [Pa * s]\n",
        "\n",
        "Re = diameter * meanVelocity * density / dynamicViscosity\n",
        "skinFriction = 0.079 * Re**(-0.25)\n",
        "wallShearStress = 0.5 * skinFriction * density * meanVelocity**2\n",
        "frictionVelocity = math.sqrt(wallShearStress / density)\n",
        "dimensionlessFirstCellHeight = density * frictionVelocity * firstCellHeight / dynamicViscosity #\n",
        "\n",
        "print(\"Reynolds number: \" + str(Re) + \" [-]\")\n",
        "print(\"Skin friction: \" + str(skinFriction) + \" [-]\")\n",
        "print(\"Wall shear stress: \" + str(wallShearStress) + \" [Pa]\")\n",
        "print(\"Friction velocity: \" + str(frictionVelocity) + \" [m/s]\")\n",
        "print(\"Dimensionless first cell height: \" + str(dimensionlessFirstCellHeight) + \" [-]\")\n"
      ],
      "metadata": {
        "id": "htJsa-tr_WhP",
        "outputId": "5aa73592-9a11-414d-e3da-5a2d7d9dc716",
        "colab": {
          "base_uri": "https://localhost:8080/"
        }
      },
      "execution_count": 2,
      "outputs": [
        {
          "output_type": "stream",
          "name": "stdout",
          "text": [
            "Reynolds number: 10000.0 [-]\n",
            "Skin friction: 0.0079 [-]\n",
            "Wall shear stress: 15.8 [Pa]\n",
            "Friction velocity: 0.12569805089976535 [m/s]\n",
            "Dimensionless first cell height: 1.005584407198123 [-]\n"
          ]
        }
      ]
    },
    {
      "cell_type": "markdown",
      "source": [
        "## Mesh Generation\n",
        "The mesh is created by:\n",
        "1. Assume the first cell height is as specified.\n",
        "2. Assume the number of cells are as specified.\n",
        "3. Assume constant expansion ratio.\n",
        "3. Calculating the expansion ratio from the given specifications.\n",
        "\n"
      ],
      "metadata": {
        "id": "BT3xsXLI6naO"
      }
    },
    {
      "cell_type": "code",
      "source": [
        "# NonlinearSolver settings\n",
        "meshExpansionRatiox0 = 5.0 # initial guess for nonlinearSolver\n",
        "meshExpansionRatioTol = 1e-12\n",
        "meshExpansionRatioMaxIter = 1000\n",
        "\n",
        "def sumOfGeometricSeries_f(firstEntry = 1.0, ratio = 1.0, numExpandingCells = 1):\n",
        "  # assume that the there will always be a difference in cell height\n",
        "  if ratio==1.0:\n",
        "    ratio += 1e-9\n",
        "\n",
        "  return firstEntry * (1.0 - ratio ** numExpandingCells) / (1.0 - ratio)\n",
        "\n",
        "\n",
        "# prompt: Generate  a loop which solves a non linear function using iteration.\n",
        "def nonLinearSolver(f, x0, tol, maxIter):\n",
        "  \"\"\"\n",
        "  Solves a non-linear function using iteration by finding the point where the function equals zero.\n",
        "\n",
        "  Args:\n",
        "    f: The function to solve.\n",
        "    x0: The initial guess.\n",
        "    tol: The tolerance for convergence.\n",
        "    max_iter: The maximum number of iterations.\n",
        "\n",
        "  Returns:\n",
        "    The solution to the non-linear function.\n",
        "  \"\"\"\n",
        "\n",
        "  if x0 == 0.0:\n",
        "    x0 += 1e-9\n",
        "\n",
        "  for i in range(maxIter):\n",
        "    x1 = x0 - f(x0) / derivative(f, x0)  # Newton-Raphson method\n",
        "    #print(\"iteration: \" + str(i) + \" - x1: \" + str(x1))\n",
        "\n",
        "    if abs((x1 - x0)/x0) < tol:\n",
        "      return x1\n",
        "    x0 = x1\n",
        "\n",
        "  raise Exception(\"Non-linear solver did not converge.\")\n",
        "\n",
        "def derivative(f, x):\n",
        "  \"\"\"\n",
        "  Calculates the derivative of a function using the central difference method.\n",
        "\n",
        "  Args:\n",
        "    f: The function to differentiate.\n",
        "    x: The point at which to calculate the derivative.\n",
        "\n",
        "  Returns:\n",
        "    The derivative of the function at x.\n",
        "  \"\"\"\n",
        "\n",
        "  h = 1e-6\n",
        "  return (f(x + h) - f(x - h)) / (2 * h)\n",
        "\n",
        "\n",
        "\n",
        "\n",
        "# find the number of expanding cells\n",
        "if cellNumberHeight % 2 == 0: # if even\n",
        "  totalHeightZero_f = lambda expansionRatio: sumOfGeometricSeries_f(firstCellHeight, expansionRatio, cellNumberHeight/2) * 2 - diameter\n",
        "\n",
        "if cellNumberHeight % 2 == 1: # if odd\n",
        "  totalHeightZero_f = lambda expansionRatio: sumOfGeometricSeries_f(firstCellHeight, expansionRatio, (cellNumberHeight - 1)/2) * 2 + firstCellHeight * expansionRatio ** ((cellNumberHeight+1)/2) - diameter\n",
        "\n",
        "#totalHeightZero_f = lambda expansionRatio: sumOfGeometricSeries_f(firstCellHeight, expansionRatio, cellNumberHeight) - diameter\n",
        "\n",
        "\n",
        "expansionRatio = nonLinearSolver(totalHeightZero_f, meshExpansionRatiox0, meshExpansionRatioTol, meshExpansionRatioMaxIter)\n",
        "print(\"expansionRation = \" + str(expansionRatio))\n",
        "\n",
        "\"\"\"\n",
        "the solver finds the expansion ratio at which the height of the domain is correct\n",
        "print(\"x0=10 \" + str(nonLinearSolver(totalHeightZero_f, 10.0)))\n",
        "print(\"x0=2 \" + str(nonLinearSolver(totalHeightZero_f, 2.0)))\n",
        "print(\"x0=1 \" + str(nonLinearSolver(totalHeightZero_f, 1.0)))\n",
        "print(\"x0=0 \" + str(nonLinearSolver(totalHeightZero_f, 0.0)))\n",
        "print(\"x0=-1 \" + str(nonLinearSolver(totalHeightZero_f, -1.0)))\n",
        "\"\"\"\n"
      ],
      "metadata": {
        "id": "d-CggRmWx8hU",
        "outputId": "cfb4bd01-1eca-4b96-8c2d-1ba6d407c52e",
        "colab": {
          "base_uri": "https://localhost:8080/",
          "height": 88
        }
      },
      "execution_count": 3,
      "outputs": [
        {
          "output_type": "stream",
          "name": "stdout",
          "text": [
            "expansionRation = 1.06220818058417\n"
          ]
        },
        {
          "output_type": "execute_result",
          "data": {
            "text/plain": [
              "'\\nthe solver finds the expansion ratio at which the height of the domain is correct\\nprint(\"x0=10 \" + str(nonLinearSolver(totalHeightZero_f, 10.0)))\\nprint(\"x0=2 \" + str(nonLinearSolver(totalHeightZero_f, 2.0)))\\nprint(\"x0=1 \" + str(nonLinearSolver(totalHeightZero_f, 1.0)))\\nprint(\"x0=0 \" + str(nonLinearSolver(totalHeightZero_f, 0.0)))\\nprint(\"x0=-1 \" + str(nonLinearSolver(totalHeightZero_f, -1.0)))\\n'"
            ],
            "application/vnd.google.colaboratory.intrinsic+json": {
              "type": "string"
            }
          },
          "metadata": {},
          "execution_count": 3
        }
      ]
    },
    {
      "cell_type": "markdown",
      "source": [
        "The expansion ratio of the domain is numerically determined. Therefore the result is not assumed to be exact, but rather approximate.\n",
        "\n",
        "The mesh cell sizes are now generated by assuming the first cell height and incorporating the expansion ratio for the cells further from the boundary.\n",
        "\n",
        "the height of the boundary cell, $h_{[0]}$, is\n",
        "$$h_{[0]} = y_1, $$\n",
        "the height of its first neighbouring cell, $h_{[1]}$ is\n",
        "$$h_{[1]} = y_1 \\cdot r_{\\text{exp.}}, $$ and the height of the second neighbour is\n",
        "$$h_{[2]} = h_{[1]} \\cdot r_{\\text{exp.}} = y_1 \\cdot (r_{\\text{exp.}})^2. $$ From this, the height of the $n$-th neighbouring cell can be written as\n",
        "$$h_{[n]} = y_1 \\cdot (r_{\\text{exp.}})^n. $$\n",
        "\n",
        "The height for each cell is determined and the total height is then checked to confirm whether this agrees with the required height of the domain.\n"
      ],
      "metadata": {
        "id": "_c42ToKQHczl"
      }
    },
    {
      "cell_type": "code",
      "source": [
        "def cellHeightForSymmetricPipe_f(firstCellHeight, expansionRatio, nthCell):\n",
        "  \"\"\"\n",
        "  Arguments:\n",
        "  firstCellHeight\n",
        "  expansionRatio\n",
        "  nthCell: the numebr of neighbours away from the nearest boundary cell. Boundary cells are nthCell = 0\n",
        "  \"\"\"\n",
        "  cellHeight = firstCellHeight * expansionRatio ** nthCell\n",
        "  return cellHeight\n",
        "\n",
        "# prompt: Create an array with each element containing an object with the following variables: xVel, yVel, xPress, yPress\n",
        "\n",
        "class Cell:\n",
        "  def __init__(self, xVel, yVel, xPress, yPress, height, width):\n",
        "    self.xVel = xVel\n",
        "    self.yVel = yVel\n",
        "    self.xPress = xPress\n",
        "    self.yPress = yPress\n",
        "    self.height = height\n",
        "    self.width = width\n",
        "\n",
        "# Initialise the mesh!\n",
        "\n",
        "cell = []\n",
        "for i in range(cellNumberHeight):\n",
        "  cell.append(Cell(0.0, 0.0, 0.0, 0.0, -1.0, cellWidth))\n",
        "  #print(str(i) + \" \"+ str(cell[i].height))\n",
        "\n",
        "\n",
        "# Set cell heights\n",
        "for i in range(cellNumberHeight):\n",
        "\n",
        "  cellHeight = cellHeightForSymmetricPipe_f(firstCellHeight, expansionRatio, i)\n",
        "  #print(str(firstCellHeight) + \" \" + str(expansionRatio) + \" \" + str(i) + \" \" + str(cellHeight) )\n",
        "\n",
        "  # from the top\n",
        "  if cell[i].height == -1.0:\n",
        "    cell[i].height = cellHeight\n",
        "\n",
        "  # in the symmetric case, the top  cell and the bottom cell are the same height.\n",
        "  # from the bottom\n",
        "  ii = cellNumberHeight - i - 1\n",
        "\n",
        "  if cell[ii].height == -1.0:\n",
        "    cell[ii].height = cellHeight\n",
        "\n",
        "sumCellHeight = 0.0\n",
        "for i in range(cellNumberHeight):\n",
        "  sumCellHeight += cell[i].height\n",
        "  #print(str(firstCellHeight) + \" \" + str(expansionRatio) + \" \" + str(i) + \" \" + str(cell[i].height) + \" \" + str(sumCellHeight) )\n",
        "\n",
        "#print(sumCellHeight)\n",
        "\n",
        "heightError = diameter / sumCellHeight -1\n",
        "\n",
        "print(\"Domain height: \" + str(sumCellHeight) + \" m\")\n",
        "print(\"Specified height (diameter): \" + str(diameter) + \" m\")\n",
        "print(\"Height error: \" + str(heightError))\n",
        "\n"
      ],
      "metadata": {
        "colab": {
          "base_uri": "https://localhost:8080/"
        },
        "id": "CpBRSkB6s7aT",
        "outputId": "57a97407-9e35-4ae7-c92e-cf9db75aa3d3"
      },
      "execution_count": 12,
      "outputs": [
        {
          "output_type": "stream",
          "name": "stdout",
          "text": [
            "Domain height: 0.04999999999999998\n",
            "Specified height (diameter): 0.05\n",
            "Height error: 4.440892098500626e-16\n"
          ]
        }
      ]
    }
  ]
}