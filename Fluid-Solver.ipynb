{
  "nbformat": 4,
  "nbformat_minor": 0,
  "metadata": {
    "colab": {
      "provenance": [],
      "authorship_tag": "ABX9TyPdtr753HCgYcXnPAM8HuFP",
      "include_colab_link": true
    },
    "kernelspec": {
      "name": "python3",
      "display_name": "Python 3"
    },
    "language_info": {
      "name": "python"
    }
  },
  "cells": [
    {
      "cell_type": "markdown",
      "metadata": {
        "id": "view-in-github",
        "colab_type": "text"
      },
      "source": [
        "<a href=\"https://colab.research.google.com/github/PHaasbroek/Google-Colab/blob/main/Fluid-Solver.ipynb\" target=\"_parent\"><img src=\"https://colab.research.google.com/assets/colab-badge.svg\" alt=\"Open In Colab\"/></a>"
      ]
    },
    {
      "cell_type": "markdown",
      "source": [
        "# Introduction\n",
        "\n",
        "The aim of this notebook is to simulate a simple numerical domain.\n",
        "\n",
        "1. Create a laminar, steady, fluid solver for one dimensional pipe flow.\n",
        "2. Create a RANS turbulence model.\n",
        "3. Employ the turbulence model in the one dimensional pipe flow.\n",
        "4. Employ the turbulence model for flow past a backward facing step.\n",
        "5. Employ the turbulence model for flow past an aerofoil.\n",
        "\n",
        "# The Navier-Stokes Equations\n",
        "\n",
        "The incompressible Navier-Stokes (NS) equations for three dimensions are given as:\n",
        "\n",
        "$$\\frac{\\partial u}{\\partial t} + u \\frac{\\partial u}{\\partial x} + v \\frac{\\partial u}{\\partial y} + w \\frac{\\partial u}{\\partial z} = -\\frac{1}{\\rho} \\frac{\\partial p}{\\partial x} + \\nu \\left(\\frac{\\partial^2 u}{\\partial x^2} + \\frac{\\partial^2 u}{\\partial y^2} + \\frac{\\partial^2 u}{\\partial z^2}\\right)$$\n",
        "\n",
        "$$\\frac{\\partial v}{\\partial t} + u \\frac{\\partial v}{\\partial x} + v \\frac{\\partial v}{\\partial y} + w \\frac{\\partial v}{\\partial z} = -\\frac{1}{\\rho} \\frac{\\partial p}{\\partial y} + \\nu \\left(\\frac{\\partial^2 v}{\\partial x^2} + \\frac{\\partial^2 v}{\\partial y^2} + \\frac{\\partial^2 v}{\\partial z^2}\\right)$$\n",
        "\n",
        "$$\\frac{\\partial w}{\\partial t} + u \\frac{\\partial w}{\\partial x} + v \\frac{\\partial w}{\\partial y} + w \\frac{\\partial w}{\\partial z} = -\\frac{1}{\\rho} \\frac{\\partial p}{\\partial z} + \\nu \\left(\\frac{\\partial^2 w}{\\partial x^2} + \\frac{\\partial^2 w}{\\partial y^2} + \\frac{\\partial^2 w}{\\partial z^2}\\right)$$\n",
        "\n",
        "\n",
        "$$\\frac{\\partial p}{\\partial x} + \\frac{\\partial p}{\\partial y} + \\frac{\\partial p}{\\partial y} = 0$$\n",
        "\n",
        "where:\n",
        "\n",
        "* $u$ is the velocity in the $x$-direction\n",
        "* $v$ is the velocity in the $y$-direction\n",
        "* $w$ is the velocity in the $z$-direction\n",
        "* $p$ is the pressure\n",
        "* $\\rho$ is the density\n",
        "* $\\nu$ is the kinematic viscosity\n",
        "\n",
        "# Solution to One-Dimensional Pipe Flow\n",
        "## Navier-Stokes equations\n",
        "For the first (1.) case, i.e. one dimensional flow through a pipe, the NS equation is reduced to:\n",
        "$$ \\frac{\\partial u}{\\partial t} + u \\frac{\\partial u}{\\partial x} + v \\frac{\\partial u}{\\partial y} + w \\frac{\\partial u}{\\partial z} = -\\frac{1}{\\rho} \\frac{\\partial p}{\\partial x} + \\nu \\left(\\frac{\\partial^2 u}{\\partial x^2} + \\frac{\\partial^2 u}{\\partial y^2} + \\frac{\\partial^2 u}{\\partial z^2}\\right)$$\n",
        "$$\\frac{\\partial u}{\\partial t} = 0$$\n",
        "\n",
        "The dimensionless first cell height, $y_1^+$, is defined as\n",
        "$$y_1^+ = \\frac{\\rho U_\\tau y_1}{\\mu},$$\n",
        "where $\\rho$ is the fluid density, $U_\\tau$ is the friction velocity, $y_1$ is the first cell height, and $\\mu$ is the fluid dynamic viscosity. Friction velocity, $U_\\tau$ is given as\n",
        "$$U_\\tau = \\sqrt{\\frac{\\tau_w}{\\rho}}, $$ where wall shear stress, $\\tau_w$, is given as\n",
        "$$\\tau_w = \\frac{1}{2} C_f \\rho U^2.$$\n",
        "Skin friction, $C_f$, is approximated empirically as\n",
        "$$C_f = 0.079 Re^{-0.25}$$\n",
        "for internal flow, and as\n",
        "$$C_f = 0.058 Re^{-0.2}$$\n",
        "for external flow.\n"
      ],
      "metadata": {
        "id": "HrATtIdq7ndc"
      }
    },
    {
      "cell_type": "code",
      "source": [
        "import math\n",
        "\n",
        "cellNumberHeight = 100 # number of cells through the height of the domain\n",
        "cellWidth = 1.0 # unit width of cells\n",
        "firstCellHeight = 8e-5 # [m]\n",
        "diameter = 0.050 # [m]\n",
        "meanVelocity = 2.0 # [m/s]\n",
        "density = 1000.0 # [kg/m^3]\n",
        "dynamicViscosity = 0.01 # [Pa * s]\n",
        "\n",
        "Re = diameter * meanVelocity * density / dynamicViscosity\n",
        "skinFriction = 0.079 * Re**(-0.25)\n",
        "wallShearStress = 0.5 * skinFriction * density * meanVelocity**2\n",
        "frictionVelocity = math.sqrt(wallShearStress / density)\n",
        "dimensionlessFirstCellHeight = density * frictionVelocity * firstCellHeight / dynamicViscosity #\n",
        "\n",
        "print(\"Reynolds number: \" + str(Re) + \" [-]\")\n",
        "print(\"Skin friction: \" + str(skinFriction) + \" [-]\")\n",
        "print(\"Wall shear stress: \" + str(wallShearStress) + \" [Pa]\")\n",
        "print(\"Friction velocity: \" + str(frictionVelocity) + \" [m/s]\")\n",
        "print(\"Dimensionless first cell height: \" + str(dimensionlessFirstCellHeight) + \" [-]\")\n",
        "\n",
        "# Make the flow domain\n",
        "\n"
      ],
      "metadata": {
        "id": "htJsa-tr_WhP",
        "outputId": "7e2085f8-c49e-4f27-be5a-55e9c8eaf8be",
        "colab": {
          "base_uri": "https://localhost:8080/"
        }
      },
      "execution_count": 5,
      "outputs": [
        {
          "output_type": "stream",
          "name": "stdout",
          "text": [
            "Reynolds number: 10000.0 [-]\n",
            "Skin friction: 0.0079 [-]\n",
            "Wall shear stress: 15.8 [Pa]\n",
            "Friction velocity: 0.12569805089976535 [m/s]\n",
            "Dimensionless first cell height: 1.005584407198123 [-]\n"
          ]
        }
      ]
    },
    {
      "cell_type": "markdown",
      "source": [
        "## Mesh Generation\n",
        "The mesh is created by:\n",
        "1. Assume the first cell height is as specified.\n",
        "2. Assume the number of cells are as specified.\n",
        "3. Assume constant expansion ratio.\n",
        "3. Calculating the expansion ratio from the given specifications.\n",
        "\n"
      ],
      "metadata": {
        "id": "BT3xsXLI6naO"
      }
    },
    {
      "cell_type": "code",
      "source": [
        "sumOfGeometricSeries_f = lambda firstEntry, ratio, numberOfEntries: firstEntry * (1 - ratio**numberOfEntries) / (1 - ratio)\n",
        "totalHeightZero_f = lambda expansionRatio: sumOfGeometricSeries_f(firstCellHeight, expansionRatio, cellNumberHeight) - diameter\n",
        "\n",
        "# prompt: Generate  a loop which solves a non linear function using iteration.\n",
        "def nonLinearSolver(f, x0, tol=1e-2, max_iter=1000):\n",
        "  \"\"\"\n",
        "  Solves a non-linear function using iteration.\n",
        "\n",
        "  Args:\n",
        "    f: The function to solve.\n",
        "    x0: The initial guess.\n",
        "    tol: The tolerance for convergence.\n",
        "    max_iter: The maximum number of iterations.\n",
        "\n",
        "  Returns:\n",
        "    The solution to the non-linear function.\n",
        "  \"\"\"\n",
        "\n",
        "  for i in range(max_iter):\n",
        "    x1 = x0 - f(x0) / derivative(f, x0)  # Newton-Raphson method\n",
        "    print(x1)\n",
        "    if abs((x1 - x0)/x0) < tol:\n",
        "      return x1\n",
        "    x0 = x1\n",
        "\n",
        "\n",
        "  raise Exception(\"Non-linear solver did not converge.\")\n",
        "\n",
        "def derivative(f, x):\n",
        "  \"\"\"\n",
        "  Calculates the derivative of a function using the central difference method.\n",
        "\n",
        "  Args:\n",
        "    f: The function to differentiate.\n",
        "    x: The point at which to calculate the derivative.\n",
        "\n",
        "  Returns:\n",
        "    The derivative of the function at x.\n",
        "  \"\"\"\n",
        "\n",
        "  h = 1e-6\n",
        "  return (f(x + h) - f(x - h)) / (2 * h)\n",
        "\n",
        "nonLinearSolver(totalHeightZero_f, 1.5)"
      ],
      "metadata": {
        "id": "d-CggRmWx8hU",
        "outputId": "a64872c0-a9da-4c62-bea9-8f11b090d42f",
        "colab": {
          "base_uri": "https://localhost:8080/"
        }
      },
      "execution_count": 13,
      "outputs": [
        {
          "output_type": "stream",
          "name": "stdout",
          "text": [
            "1.4845360824834104\n",
            "1.4692215092098626\n",
            "1.4540543826371852\n",
            "1.4390327904526232\n",
            "1.4241548016301144\n",
            "1.4094184618887264\n",
            "1.3948217884332637\n",
            "1.380362763831477\n",
            "1.3660393288457693\n",
            "1.3518493739907205\n",
            "1.3377907295283469\n",
            "1.32386115353284\n",
            "1.3100583175520166\n",
            "1.2963797892516313\n",
            "1.2828230112379124\n",
            "1.2693852749923635\n",
            "1.2560636884909384\n",
            "1.2428551355732376\n",
            "1.2297562244150093\n",
            "1.2167632214510098\n",
            "1.2038719656926913\n",
            "1.1910777565013517\n",
            "1.1783752056020012\n",
            "1.1657580422091023\n",
            "1.1532188614820622\n",
            "1.1407488204521465\n",
            "1.1283373399475223\n",
            "1.1159720463856313\n",
            "1.103639711215133\n",
            "1.0913304503025878\n",
            "1.0790516306129931\n",
            "1.066868981222927\n",
            "1.0550176876623614\n",
            "1.0441571907234646\n",
            "1.035712874490341\n"
          ]
        },
        {
          "output_type": "execute_result",
          "data": {
            "text/plain": [
              "1.035712874490341"
            ]
          },
          "metadata": {},
          "execution_count": 13
        }
      ]
    }
  ]
}